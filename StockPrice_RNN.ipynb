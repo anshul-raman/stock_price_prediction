{
  "nbformat": 4,
  "nbformat_minor": 0,
  "metadata": {
    "colab": {
      "name": "StockPrice RNN",
      "provenance": [],
      "authorship_tag": "ABX9TyORBxsUN/gv5syC0A/F3iR/",
      "include_colab_link": true
    },
    "kernelspec": {
      "name": "python3",
      "display_name": "Python 3"
    }
  },
  "cells": [
    {
      "cell_type": "markdown",
      "metadata": {
        "id": "view-in-github",
        "colab_type": "text"
      },
      "source": [
        "<a href=\"https://colab.research.google.com/github/anshul-raman/stock_price_prediction/blob/master/StockPrice_RNN.ipynb\" target=\"_parent\"><img src=\"https://colab.research.google.com/assets/colab-badge.svg\" alt=\"Open In Colab\"/></a>"
      ]
    },
    {
      "cell_type": "code",
      "metadata": {
        "id": "pBwKnfOHCQ1l",
        "colab_type": "code",
        "colab": {
          "base_uri": "https://localhost:8080/",
          "height": 34
        },
        "outputId": "ff30ab97-4024-4c7e-c4b6-0e0c6e870eec"
      },
      "source": [
        "try:\n",
        "  %tensorflow_version 2.x  \n",
        "except Exception:\n",
        "  pass\n",
        "\n",
        "import tensorflow as tf\n",
        "print(tf.__version__)"
      ],
      "execution_count": 61,
      "outputs": [
        {
          "output_type": "stream",
          "text": [
            "2.3.0\n"
          ],
          "name": "stdout"
        }
      ]
    },
    {
      "cell_type": "code",
      "metadata": {
        "id": "pTF1mFc4Cx3O",
        "colab_type": "code",
        "colab": {}
      },
      "source": [
        "# We will use tensorflow to build RNN\n",
        "from tensorflow.keras.layers import Input, LSTM, GRU, SimpleRNN, Dense\n",
        "from tensorflow.keras.models import Model\n",
        "from tensorflow.keras.optimizers import SGD, Adam\n",
        "\n",
        "import numpy as np\n",
        "import pandas as pd\n",
        "import matplotlib.pyplot as plt\n",
        "from sklearn.preprocessing import StandardScaler"
      ],
      "execution_count": 62,
      "outputs": []
    },
    {
      "cell_type": "code",
      "metadata": {
        "id": "_cZ0odoJC7tu",
        "colab_type": "code",
        "colab": {}
      },
      "source": [
        "# downloading data from our github repository\n",
        "df = pd.read_csv('https://raw.githubusercontent.com/anshul-raman/stock_price_prediction/master/starbucks_stockData.csv')"
      ],
      "execution_count": 63,
      "outputs": []
    },
    {
      "cell_type": "code",
      "metadata": {
        "id": "AkoqSUEsDJ4T",
        "colab_type": "code",
        "colab": {
          "base_uri": "https://localhost:8080/",
          "height": 204
        },
        "outputId": "b8598373-0c22-4b02-c491-3e80eca91dbf"
      },
      "source": [
        "df.head()"
      ],
      "execution_count": 64,
      "outputs": [
        {
          "output_type": "execute_result",
          "data": {
            "text/html": [
              "<div>\n",
              "<style scoped>\n",
              "    .dataframe tbody tr th:only-of-type {\n",
              "        vertical-align: middle;\n",
              "    }\n",
              "\n",
              "    .dataframe tbody tr th {\n",
              "        vertical-align: top;\n",
              "    }\n",
              "\n",
              "    .dataframe thead th {\n",
              "        text-align: right;\n",
              "    }\n",
              "</style>\n",
              "<table border=\"1\" class=\"dataframe\">\n",
              "  <thead>\n",
              "    <tr style=\"text-align: right;\">\n",
              "      <th></th>\n",
              "      <th>date</th>\n",
              "      <th>open</th>\n",
              "      <th>high</th>\n",
              "      <th>low</th>\n",
              "      <th>close</th>\n",
              "      <th>volume</th>\n",
              "      <th>Name</th>\n",
              "    </tr>\n",
              "  </thead>\n",
              "  <tbody>\n",
              "    <tr>\n",
              "      <th>0</th>\n",
              "      <td>2013-02-08</td>\n",
              "      <td>27.920</td>\n",
              "      <td>28.325</td>\n",
              "      <td>27.920</td>\n",
              "      <td>28.185</td>\n",
              "      <td>7146296</td>\n",
              "      <td>SBUX</td>\n",
              "    </tr>\n",
              "    <tr>\n",
              "      <th>1</th>\n",
              "      <td>2013-02-11</td>\n",
              "      <td>28.260</td>\n",
              "      <td>28.260</td>\n",
              "      <td>27.930</td>\n",
              "      <td>28.070</td>\n",
              "      <td>5457354</td>\n",
              "      <td>SBUX</td>\n",
              "    </tr>\n",
              "    <tr>\n",
              "      <th>2</th>\n",
              "      <td>2013-02-12</td>\n",
              "      <td>28.000</td>\n",
              "      <td>28.275</td>\n",
              "      <td>27.975</td>\n",
              "      <td>28.130</td>\n",
              "      <td>8665592</td>\n",
              "      <td>SBUX</td>\n",
              "    </tr>\n",
              "    <tr>\n",
              "      <th>3</th>\n",
              "      <td>2013-02-13</td>\n",
              "      <td>28.230</td>\n",
              "      <td>28.230</td>\n",
              "      <td>27.750</td>\n",
              "      <td>27.915</td>\n",
              "      <td>7022056</td>\n",
              "      <td>SBUX</td>\n",
              "    </tr>\n",
              "    <tr>\n",
              "      <th>4</th>\n",
              "      <td>2013-02-14</td>\n",
              "      <td>27.765</td>\n",
              "      <td>27.905</td>\n",
              "      <td>27.675</td>\n",
              "      <td>27.775</td>\n",
              "      <td>8899188</td>\n",
              "      <td>SBUX</td>\n",
              "    </tr>\n",
              "  </tbody>\n",
              "</table>\n",
              "</div>"
            ],
            "text/plain": [
              "         date    open    high     low   close   volume  Name\n",
              "0  2013-02-08  27.920  28.325  27.920  28.185  7146296  SBUX\n",
              "1  2013-02-11  28.260  28.260  27.930  28.070  5457354  SBUX\n",
              "2  2013-02-12  28.000  28.275  27.975  28.130  8665592  SBUX\n",
              "3  2013-02-13  28.230  28.230  27.750  27.915  7022056  SBUX\n",
              "4  2013-02-14  27.765  27.905  27.675  27.775  8899188  SBUX"
            ]
          },
          "metadata": {
            "tags": []
          },
          "execution_count": 64
        }
      ]
    },
    {
      "cell_type": "code",
      "metadata": {
        "id": "utgUTu7IDNRh",
        "colab_type": "code",
        "colab": {}
      },
      "source": [
        ""
      ],
      "execution_count": 64,
      "outputs": []
    },
    {
      "cell_type": "markdown",
      "metadata": {
        "id": "Dj7VqMe0DQEh",
        "colab_type": "text"
      },
      "source": [
        "# Method 1\n",
        "\n",
        "\n",
        "\n",
        "---\n",
        "Predicting  stock price from previous stock price\n",
        "\n",
        "\n"
      ]
    },
    {
      "cell_type": "code",
      "metadata": {
        "id": "_DloOfsDDeTd",
        "colab_type": "code",
        "colab": {}
      },
      "source": [
        "series = df['close'].values.reshape(-1, 1)"
      ],
      "execution_count": 65,
      "outputs": []
    },
    {
      "cell_type": "code",
      "metadata": {
        "id": "KDGZ-i39Dr8e",
        "colab_type": "code",
        "colab": {}
      },
      "source": [
        "# Normalizing data \n",
        "scaler = StandardScaler()\n",
        "scaler.fit(series[:len(series)//2]) #using half data for training, scaler is fit on half data only\n",
        "series = scaler.transform(series).flatten()"
      ],
      "execution_count": 66,
      "outputs": []
    },
    {
      "cell_type": "code",
      "metadata": {
        "id": "sRzxoytAEF_y",
        "colab_type": "code",
        "colab": {
          "base_uri": "https://localhost:8080/",
          "height": 34
        },
        "outputId": "fcb2ebde-dd84-4129-c192-a59247912df3"
      },
      "source": [
        "#Building dataset\n",
        "#using past T values to predict next value \n",
        "T = 10\n",
        "D = 1 # input features, here only closing price \n",
        "X = []\n",
        "Y = []\n",
        "for t in range(len(series) - T):\n",
        "  x = series[t : t+T]\n",
        "  X.append(x)\n",
        "  y = series[t+T]\n",
        "  Y.append(y)\n",
        "\n",
        "X = np.array(X).reshape(-1, T, 1) #shape of data should be N x T x D \n",
        "Y = np.array(Y)\n",
        "N = len(X)\n",
        "print(\"X.shape\", X.shape, \"Y.shape\", Y.shape)"
      ],
      "execution_count": 67,
      "outputs": [
        {
          "output_type": "stream",
          "text": [
            "X.shape (1249, 10, 1) Y.shape (1249,)\n"
          ],
          "name": "stdout"
        }
      ]
    },
    {
      "cell_type": "code",
      "metadata": {
        "id": "OlUAgFUrFPvL",
        "colab_type": "code",
        "colab": {
          "base_uri": "https://localhost:8080/",
          "height": 1000
        },
        "outputId": "c8a26ce0-8e1d-4f43-fa60-7c378fbb1d9b"
      },
      "source": [
        "#building RNN model \n",
        "_input = Input(shape=(T, 1))\n",
        "x = LSTM(5)(_input)\n",
        "out = Dense(1)(x)\n",
        "model = Model(_input, out)\n",
        "model.compile(\n",
        "    loss = 'mse',\n",
        "    optimizer = Adam(lr=0.1)\n",
        ")\n",
        "\n",
        "r = model.fit(\n",
        "  X[:-N//2], Y[:-N//2],\n",
        "  epochs=80,\n",
        "  validation_data=(X[-N//2:], Y[-N//2:]),\n",
        ")"
      ],
      "execution_count": 68,
      "outputs": [
        {
          "output_type": "stream",
          "text": [
            "Epoch 1/80\n",
            "20/20 [==============================] - 1s 26ms/step - loss: 0.2552 - val_loss: 0.8334\n",
            "Epoch 2/80\n",
            "20/20 [==============================] - 0s 6ms/step - loss: 0.0303 - val_loss: 0.1074\n",
            "Epoch 3/80\n",
            "20/20 [==============================] - 0s 6ms/step - loss: 0.0083 - val_loss: 0.0642\n",
            "Epoch 4/80\n",
            "20/20 [==============================] - 0s 7ms/step - loss: 0.0068 - val_loss: 0.0685\n",
            "Epoch 5/80\n",
            "20/20 [==============================] - 0s 6ms/step - loss: 0.0065 - val_loss: 0.0703\n",
            "Epoch 6/80\n",
            "20/20 [==============================] - 0s 6ms/step - loss: 0.0066 - val_loss: 0.0672\n",
            "Epoch 7/80\n",
            "20/20 [==============================] - 0s 6ms/step - loss: 0.0060 - val_loss: 0.0645\n",
            "Epoch 8/80\n",
            "20/20 [==============================] - 0s 6ms/step - loss: 0.0059 - val_loss: 0.0622\n",
            "Epoch 9/80\n",
            "20/20 [==============================] - 0s 7ms/step - loss: 0.0085 - val_loss: 0.0858\n",
            "Epoch 10/80\n",
            "20/20 [==============================] - 0s 6ms/step - loss: 0.0060 - val_loss: 0.0589\n",
            "Epoch 11/80\n",
            "20/20 [==============================] - 0s 6ms/step - loss: 0.0054 - val_loss: 0.0640\n",
            "Epoch 12/80\n",
            "20/20 [==============================] - 0s 6ms/step - loss: 0.0057 - val_loss: 0.0580\n",
            "Epoch 13/80\n",
            "20/20 [==============================] - 0s 6ms/step - loss: 0.0053 - val_loss: 0.0606\n",
            "Epoch 14/80\n",
            "20/20 [==============================] - 0s 6ms/step - loss: 0.0057 - val_loss: 0.0496\n",
            "Epoch 15/80\n",
            "20/20 [==============================] - 0s 7ms/step - loss: 0.0052 - val_loss: 0.0507\n",
            "Epoch 16/80\n",
            "20/20 [==============================] - 0s 6ms/step - loss: 0.0063 - val_loss: 0.0582\n",
            "Epoch 17/80\n",
            "20/20 [==============================] - 0s 6ms/step - loss: 0.0057 - val_loss: 0.0668\n",
            "Epoch 18/80\n",
            "20/20 [==============================] - 0s 7ms/step - loss: 0.0060 - val_loss: 0.0518\n",
            "Epoch 19/80\n",
            "20/20 [==============================] - 0s 6ms/step - loss: 0.0073 - val_loss: 0.0492\n",
            "Epoch 20/80\n",
            "20/20 [==============================] - 0s 6ms/step - loss: 0.0062 - val_loss: 0.0584\n",
            "Epoch 21/80\n",
            "20/20 [==============================] - 0s 6ms/step - loss: 0.0056 - val_loss: 0.0479\n",
            "Epoch 22/80\n",
            "20/20 [==============================] - 0s 6ms/step - loss: 0.0060 - val_loss: 0.0603\n",
            "Epoch 23/80\n",
            "20/20 [==============================] - 0s 6ms/step - loss: 0.0056 - val_loss: 0.0533\n",
            "Epoch 24/80\n",
            "20/20 [==============================] - 0s 6ms/step - loss: 0.0061 - val_loss: 0.0688\n",
            "Epoch 25/80\n",
            "20/20 [==============================] - 0s 6ms/step - loss: 0.0077 - val_loss: 0.0611\n",
            "Epoch 26/80\n",
            "20/20 [==============================] - 0s 6ms/step - loss: 0.0064 - val_loss: 0.0419\n",
            "Epoch 27/80\n",
            "20/20 [==============================] - 0s 6ms/step - loss: 0.0069 - val_loss: 0.0680\n",
            "Epoch 28/80\n",
            "20/20 [==============================] - 0s 6ms/step - loss: 0.0067 - val_loss: 0.0678\n",
            "Epoch 29/80\n",
            "20/20 [==============================] - 0s 6ms/step - loss: 0.0057 - val_loss: 0.0403\n",
            "Epoch 30/80\n",
            "20/20 [==============================] - 0s 6ms/step - loss: 0.0069 - val_loss: 0.0657\n",
            "Epoch 31/80\n",
            "20/20 [==============================] - 0s 6ms/step - loss: 0.0068 - val_loss: 0.0539\n",
            "Epoch 32/80\n",
            "20/20 [==============================] - 0s 6ms/step - loss: 0.0067 - val_loss: 0.0517\n",
            "Epoch 33/80\n",
            "20/20 [==============================] - 0s 6ms/step - loss: 0.0058 - val_loss: 0.0486\n",
            "Epoch 34/80\n",
            "20/20 [==============================] - 0s 6ms/step - loss: 0.0054 - val_loss: 0.0473\n",
            "Epoch 35/80\n",
            "20/20 [==============================] - 0s 6ms/step - loss: 0.0056 - val_loss: 0.0395\n",
            "Epoch 36/80\n",
            "20/20 [==============================] - 0s 6ms/step - loss: 0.0058 - val_loss: 0.0486\n",
            "Epoch 37/80\n",
            "20/20 [==============================] - 0s 7ms/step - loss: 0.0059 - val_loss: 0.0390\n",
            "Epoch 38/80\n",
            "20/20 [==============================] - 0s 6ms/step - loss: 0.0055 - val_loss: 0.0417\n",
            "Epoch 39/80\n",
            "20/20 [==============================] - 0s 6ms/step - loss: 0.0066 - val_loss: 0.0307\n",
            "Epoch 40/80\n",
            "20/20 [==============================] - 0s 7ms/step - loss: 0.0053 - val_loss: 0.0420\n",
            "Epoch 41/80\n",
            "20/20 [==============================] - 0s 6ms/step - loss: 0.0053 - val_loss: 0.0361\n",
            "Epoch 42/80\n",
            "20/20 [==============================] - 0s 6ms/step - loss: 0.0068 - val_loss: 0.0372\n",
            "Epoch 43/80\n",
            "20/20 [==============================] - 0s 6ms/step - loss: 0.0068 - val_loss: 0.0545\n",
            "Epoch 44/80\n",
            "20/20 [==============================] - 0s 6ms/step - loss: 0.0072 - val_loss: 0.0455\n",
            "Epoch 45/80\n",
            "20/20 [==============================] - 0s 6ms/step - loss: 0.0063 - val_loss: 0.0408\n",
            "Epoch 46/80\n",
            "20/20 [==============================] - 0s 6ms/step - loss: 0.0066 - val_loss: 0.0412\n",
            "Epoch 47/80\n",
            "20/20 [==============================] - 0s 7ms/step - loss: 0.0058 - val_loss: 0.0405\n",
            "Epoch 48/80\n",
            "20/20 [==============================] - 0s 7ms/step - loss: 0.0066 - val_loss: 0.0315\n",
            "Epoch 49/80\n",
            "20/20 [==============================] - 0s 6ms/step - loss: 0.0080 - val_loss: 0.0518\n",
            "Epoch 50/80\n",
            "20/20 [==============================] - 0s 6ms/step - loss: 0.0064 - val_loss: 0.0379\n",
            "Epoch 51/80\n",
            "20/20 [==============================] - 0s 7ms/step - loss: 0.0056 - val_loss: 0.0513\n",
            "Epoch 52/80\n",
            "20/20 [==============================] - 0s 6ms/step - loss: 0.0060 - val_loss: 0.0309\n",
            "Epoch 53/80\n",
            "20/20 [==============================] - 0s 7ms/step - loss: 0.0058 - val_loss: 0.0350\n",
            "Epoch 54/80\n",
            "20/20 [==============================] - 0s 7ms/step - loss: 0.0052 - val_loss: 0.0283\n",
            "Epoch 55/80\n",
            "20/20 [==============================] - 0s 6ms/step - loss: 0.0053 - val_loss: 0.0379\n",
            "Epoch 56/80\n",
            "20/20 [==============================] - 0s 6ms/step - loss: 0.0055 - val_loss: 0.0577\n",
            "Epoch 57/80\n",
            "20/20 [==============================] - 0s 6ms/step - loss: 0.0054 - val_loss: 0.0525\n",
            "Epoch 58/80\n",
            "20/20 [==============================] - 0s 6ms/step - loss: 0.0055 - val_loss: 0.0425\n",
            "Epoch 59/80\n",
            "20/20 [==============================] - 0s 6ms/step - loss: 0.0053 - val_loss: 0.0306\n",
            "Epoch 60/80\n",
            "20/20 [==============================] - 0s 6ms/step - loss: 0.0053 - val_loss: 0.0583\n",
            "Epoch 61/80\n",
            "20/20 [==============================] - 0s 6ms/step - loss: 0.0052 - val_loss: 0.0255\n",
            "Epoch 62/80\n",
            "20/20 [==============================] - 0s 7ms/step - loss: 0.0054 - val_loss: 0.0338\n",
            "Epoch 63/80\n",
            "20/20 [==============================] - 0s 6ms/step - loss: 0.0054 - val_loss: 0.0331\n",
            "Epoch 64/80\n",
            "20/20 [==============================] - 0s 7ms/step - loss: 0.0055 - val_loss: 0.0434\n",
            "Epoch 65/80\n",
            "20/20 [==============================] - 0s 6ms/step - loss: 0.0054 - val_loss: 0.0378\n",
            "Epoch 66/80\n",
            "20/20 [==============================] - 0s 6ms/step - loss: 0.0053 - val_loss: 0.0427\n",
            "Epoch 67/80\n",
            "20/20 [==============================] - 0s 6ms/step - loss: 0.0051 - val_loss: 0.0290\n",
            "Epoch 68/80\n",
            "20/20 [==============================] - 0s 6ms/step - loss: 0.0064 - val_loss: 0.0324\n",
            "Epoch 69/80\n",
            "20/20 [==============================] - 0s 6ms/step - loss: 0.0061 - val_loss: 0.0689\n",
            "Epoch 70/80\n",
            "20/20 [==============================] - 0s 6ms/step - loss: 0.0060 - val_loss: 0.0471\n",
            "Epoch 71/80\n",
            "20/20 [==============================] - 0s 6ms/step - loss: 0.0051 - val_loss: 0.0299\n",
            "Epoch 72/80\n",
            "20/20 [==============================] - 0s 6ms/step - loss: 0.0054 - val_loss: 0.0303\n",
            "Epoch 73/80\n",
            "20/20 [==============================] - 0s 6ms/step - loss: 0.0069 - val_loss: 0.0264\n",
            "Epoch 74/80\n",
            "20/20 [==============================] - 0s 6ms/step - loss: 0.0060 - val_loss: 0.0271\n",
            "Epoch 75/80\n",
            "20/20 [==============================] - 0s 6ms/step - loss: 0.0067 - val_loss: 0.0343\n",
            "Epoch 76/80\n",
            "20/20 [==============================] - 0s 6ms/step - loss: 0.0063 - val_loss: 0.0594\n",
            "Epoch 77/80\n",
            "20/20 [==============================] - 0s 6ms/step - loss: 0.0058 - val_loss: 0.0272\n",
            "Epoch 78/80\n",
            "20/20 [==============================] - 0s 6ms/step - loss: 0.0053 - val_loss: 0.0389\n",
            "Epoch 79/80\n",
            "20/20 [==============================] - 0s 6ms/step - loss: 0.0057 - val_loss: 0.0509\n",
            "Epoch 80/80\n",
            "20/20 [==============================] - 0s 6ms/step - loss: 0.0062 - val_loss: 0.0254\n"
          ],
          "name": "stdout"
        }
      ]
    },
    {
      "cell_type": "code",
      "metadata": {
        "id": "z1iKH447GPjf",
        "colab_type": "code",
        "colab": {
          "base_uri": "https://localhost:8080/",
          "height": 282
        },
        "outputId": "c22ece51-d1e9-42ef-b3bb-fc3623e87222"
      },
      "source": [
        "plt.plot(r.history['loss'], label='loss')\n",
        "plt.plot(r.history['val_loss'], label='val_loss')\n",
        "plt.legend()"
      ],
      "execution_count": 69,
      "outputs": [
        {
          "output_type": "execute_result",
          "data": {
            "text/plain": [
              "<matplotlib.legend.Legend at 0x7f8b7a491908>"
            ]
          },
          "metadata": {
            "tags": []
          },
          "execution_count": 69
        },
        {
          "output_type": "display_data",
          "data": {
            "image/png": "[encoded data removed]",
            "text/plain": [
              "<Figure size 432x288 with 1 Axes>"
            ]
          },
          "metadata": {
            "tags": [],
            "needs_background": "light"
          }
        }
      ]
    },
    {
      "cell_type": "code",
      "metadata": {
        "id": "vBQKgkWuGsoF",
        "colab_type": "code",
        "colab": {
          "base_uri": "https://localhost:8080/",
          "height": 299
        },
        "outputId": "7babdd51-5e9f-4814-9cdc-b08ec0f894b8"
      },
      "source": [
        "# One-step forecast using true targets\n",
        "outputs = model.predict(X)\n",
        "print(outputs.shape)\n",
        "predictions = outputs[:,0]\n",
        "\n",
        "plt.plot(Y, label='targets')\n",
        "plt.plot(predictions, label='predictions')\n",
        "plt.legend()"
      ],
      "execution_count": 70,
      "outputs": [
        {
          "output_type": "stream",
          "text": [
            "(1249, 1)\n"
          ],
          "name": "stdout"
        },
        {
          "output_type": "execute_result",
          "data": {
            "text/plain": [
              "<matplotlib.legend.Legend at 0x7f8b7deadfd0>"
            ]
          },
          "metadata": {
            "tags": []
          },
          "execution_count": 70
        },
        {
          "output_type": "display_data",
          "data": {
            "image/png": "[encoded data removed]",
            "text/plain": [
              "<Figure size 432x288 with 1 Axes>"
            ]
          },
          "metadata": {
            "tags": [],
            "needs_background": "light"
          }
        }
      ]
    },
    {
      "cell_type": "code",
      "metadata": {
        "id": "Fs-tRfDbHDJE",
        "colab_type": "code",
        "colab": {
          "base_uri": "https://localhost:8080/",
          "height": 282
        },
        "outputId": "5293d2ac-09ba-4235-a806-8b078d2516f0"
      },
      "source": [
        "# Multi-step forecast\n",
        "validation_target = Y[-N//2:]\n",
        "validation_predictions = []\n",
        "\n",
        "# first validation input\n",
        "last_x = X[-N//2] # 1-D array of length T\n",
        "\n",
        "while len(validation_predictions) < len(validation_target):\n",
        "  p = model.predict(last_x.reshape(1, T, 1))[0,0] # 1x1 array -> scalar\n",
        "  \n",
        "  # update the predictions list\n",
        "  validation_predictions.append(p)\n",
        "  \n",
        "  # make the new input\n",
        "  last_x = np.roll(last_x, -1)\n",
        "  last_x[-1] = p\n",
        "\n",
        "plt.plot(validation_target, label='forecast target')\n",
        "plt.plot(validation_predictions, label='forecast prediction')\n",
        "plt.legend()"
      ],
      "execution_count": 71,
      "outputs": [
        {
          "output_type": "execute_result",
          "data": {
            "text/plain": [
              "<matplotlib.legend.Legend at 0x7f8b7b495e80>"
            ]
          },
          "metadata": {
            "tags": []
          },
          "execution_count": 71
        },
        {
          "output_type": "display_data",
          "data": {
            "image/png": "[encoded data removed]",
            "text/plain": [
              "<Figure size 432x288 with 1 Axes>"
            ]
          },
          "metadata": {
            "tags": [],
            "needs_background": "light"
          }
        }
      ]
    },
    {
      "cell_type": "code",
      "metadata": {
        "id": "G6h4elMDJiir",
        "colab_type": "code",
        "colab": {}
      },
      "source": [
        ""
      ],
      "execution_count": 71,
      "outputs": []
    },
    {
      "cell_type": "markdown",
      "metadata": {
        "id": "IE9jngkaJL8e",
        "colab_type": "text"
      },
      "source": [
        "##Observations on method 1\n",
        "Model performed very poorly when predicting next price using only previous prices \n",
        "\n",
        "\n",
        "```\n",
        "Reasons and conclusion is discussed in the end\n",
        "```\n"
      ]
    },
    {
      "cell_type": "markdown",
      "metadata": {
        "id": "XMPP0tEVKATR",
        "colab_type": "text"
      },
      "source": [
        "# Method 2\n",
        "Instead of predicting next price using previous price we will try to predict 'Returns' in the stock price. i.e By how much percent will the price go up or down."
      ]
    },
    {
      "cell_type": "code",
      "metadata": {
        "id": "VtHkSi_RKnLK",
        "colab_type": "code",
        "colab": {}
      },
      "source": [
        "# Add a new column of Previous day closing price \n",
        "df['prevClose'] = df['close'].shift(1) #shifting closing price by 1 in new column\n",
        "\n",
        "# new column will look like this\n",
        "# close  | prev close\n",
        "# x[2]   | x[1]\n",
        "# x[3]   | x[2]"
      ],
      "execution_count": 72,
      "outputs": []
    },
    {
      "cell_type": "code",
      "metadata": {
        "id": "HFBvIyPPLPz4",
        "colab_type": "code",
        "colab": {
          "base_uri": "https://localhost:8080/",
          "height": 204
        },
        "outputId": "52171dd5-f508-451d-9ce5-047210c2c854"
      },
      "source": [
        "df.head()"
      ],
      "execution_count": 73,
      "outputs": [
        {
          "output_type": "execute_result",
          "data": {
            "text/html": [
              "<div>\n",
              "<style scoped>\n",
              "    .dataframe tbody tr th:only-of-type {\n",
              "        vertical-align: middle;\n",
              "    }\n",
              "\n",
              "    .dataframe tbody tr th {\n",
              "        vertical-align: top;\n",
              "    }\n",
              "\n",
              "    .dataframe thead th {\n",
              "        text-align: right;\n",
              "    }\n",
              "</style>\n",
              "<table border=\"1\" class=\"dataframe\">\n",
              "  <thead>\n",
              "    <tr style=\"text-align: right;\">\n",
              "      <th></th>\n",
              "      <th>date</th>\n",
              "      <th>open</th>\n",
              "      <th>high</th>\n",
              "      <th>low</th>\n",
              "      <th>close</th>\n",
              "      <th>volume</th>\n",
              "      <th>Name</th>\n",
              "      <th>prevClose</th>\n",
              "    </tr>\n",
              "  </thead>\n",
              "  <tbody>\n",
              "    <tr>\n",
              "      <th>0</th>\n",
              "      <td>2013-02-08</td>\n",
              "      <td>27.920</td>\n",
              "      <td>28.325</td>\n",
              "      <td>27.920</td>\n",
              "      <td>28.185</td>\n",
              "      <td>7146296</td>\n",
              "      <td>SBUX</td>\n",
              "      <td>NaN</td>\n",
              "    </tr>\n",
              "    <tr>\n",
              "      <th>1</th>\n",
              "      <td>2013-02-11</td>\n",
              "      <td>28.260</td>\n",
              "      <td>28.260</td>\n",
              "      <td>27.930</td>\n",
              "      <td>28.070</td>\n",
              "      <td>5457354</td>\n",
              "      <td>SBUX</td>\n",
              "      <td>28.185</td>\n",
              "    </tr>\n",
              "    <tr>\n",
              "      <th>2</th>\n",
              "      <td>2013-02-12</td>\n",
              "      <td>28.000</td>\n",
              "      <td>28.275</td>\n",
              "      <td>27.975</td>\n",
              "      <td>28.130</td>\n",
              "      <td>8665592</td>\n",
              "      <td>SBUX</td>\n",
              "      <td>28.070</td>\n",
              "    </tr>\n",
              "    <tr>\n",
              "      <th>3</th>\n",
              "      <td>2013-02-13</td>\n",
              "      <td>28.230</td>\n",
              "      <td>28.230</td>\n",
              "      <td>27.750</td>\n",
              "      <td>27.915</td>\n",
              "      <td>7022056</td>\n",
              "      <td>SBUX</td>\n",
              "      <td>28.130</td>\n",
              "    </tr>\n",
              "    <tr>\n",
              "      <th>4</th>\n",
              "      <td>2013-02-14</td>\n",
              "      <td>27.765</td>\n",
              "      <td>27.905</td>\n",
              "      <td>27.675</td>\n",
              "      <td>27.775</td>\n",
              "      <td>8899188</td>\n",
              "      <td>SBUX</td>\n",
              "      <td>27.915</td>\n",
              "    </tr>\n",
              "  </tbody>\n",
              "</table>\n",
              "</div>"
            ],
            "text/plain": [
              "         date    open    high     low   close   volume  Name  prevClose\n",
              "0  2013-02-08  27.920  28.325  27.920  28.185  7146296  SBUX        NaN\n",
              "1  2013-02-11  28.260  28.260  27.930  28.070  5457354  SBUX     28.185\n",
              "2  2013-02-12  28.000  28.275  27.975  28.130  8665592  SBUX     28.070\n",
              "3  2013-02-13  28.230  28.230  27.750  27.915  7022056  SBUX     28.130\n",
              "4  2013-02-14  27.765  27.905  27.675  27.775  8899188  SBUX     27.915"
            ]
          },
          "metadata": {
            "tags": []
          },
          "execution_count": 73
        }
      ]
    },
    {
      "cell_type": "code",
      "metadata": {
        "id": "pkQvvEf3LQ0B",
        "colab_type": "code",
        "colab": {}
      },
      "source": [
        "# return is defined as \n",
        "# (x[t] - x[t-1]) / x[t-1]\n",
        "df['Return'] = (df['close'] - df['prevClose'])/df['prevClose']"
      ],
      "execution_count": 74,
      "outputs": []
    },
    {
      "cell_type": "code",
      "metadata": {
        "id": "5JN_AwiCLjY_",
        "colab_type": "code",
        "colab": {
          "base_uri": "https://localhost:8080/",
          "height": 204
        },
        "outputId": "3e50d8bf-95aa-4245-fa08-8d9059e5e341"
      },
      "source": [
        "df.head()"
      ],
      "execution_count": 75,
      "outputs": [
        {
          "output_type": "execute_result",
          "data": {
            "text/html": [
              "<div>\n",
              "<style scoped>\n",
              "    .dataframe tbody tr th:only-of-type {\n",
              "        vertical-align: middle;\n",
              "    }\n",
              "\n",
              "    .dataframe tbody tr th {\n",
              "        vertical-align: top;\n",
              "    }\n",
              "\n",
              "    .dataframe thead th {\n",
              "        text-align: right;\n",
              "    }\n",
              "</style>\n",
              "<table border=\"1\" class=\"dataframe\">\n",
              "  <thead>\n",
              "    <tr style=\"text-align: right;\">\n",
              "      <th></th>\n",
              "      <th>date</th>\n",
              "      <th>open</th>\n",
              "      <th>high</th>\n",
              "      <th>low</th>\n",
              "      <th>close</th>\n",
              "      <th>volume</th>\n",
              "      <th>Name</th>\n",
              "      <th>prevClose</th>\n",
              "      <th>Return</th>\n",
              "    </tr>\n",
              "  </thead>\n",
              "  <tbody>\n",
              "    <tr>\n",
              "      <th>0</th>\n",
              "      <td>2013-02-08</td>\n",
              "      <td>27.920</td>\n",
              "      <td>28.325</td>\n",
              "      <td>27.920</td>\n",
              "      <td>28.185</td>\n",
              "      <td>7146296</td>\n",
              "      <td>SBUX</td>\n",
              "      <td>NaN</td>\n",
              "      <td>NaN</td>\n",
              "    </tr>\n",
              "    <tr>\n",
              "      <th>1</th>\n",
              "      <td>2013-02-11</td>\n",
              "      <td>28.260</td>\n",
              "      <td>28.260</td>\n",
              "      <td>27.930</td>\n",
              "      <td>28.070</td>\n",
              "      <td>5457354</td>\n",
              "      <td>SBUX</td>\n",
              "      <td>28.185</td>\n",
              "      <td>-0.004080</td>\n",
              "    </tr>\n",
              "    <tr>\n",
              "      <th>2</th>\n",
              "      <td>2013-02-12</td>\n",
              "      <td>28.000</td>\n",
              "      <td>28.275</td>\n",
              "      <td>27.975</td>\n",
              "      <td>28.130</td>\n",
              "      <td>8665592</td>\n",
              "      <td>SBUX</td>\n",
              "      <td>28.070</td>\n",
              "      <td>0.002138</td>\n",
              "    </tr>\n",
              "    <tr>\n",
              "      <th>3</th>\n",
              "      <td>2013-02-13</td>\n",
              "      <td>28.230</td>\n",
              "      <td>28.230</td>\n",
              "      <td>27.750</td>\n",
              "      <td>27.915</td>\n",
              "      <td>7022056</td>\n",
              "      <td>SBUX</td>\n",
              "      <td>28.130</td>\n",
              "      <td>-0.007643</td>\n",
              "    </tr>\n",
              "    <tr>\n",
              "      <th>4</th>\n",
              "      <td>2013-02-14</td>\n",
              "      <td>27.765</td>\n",
              "      <td>27.905</td>\n",
              "      <td>27.675</td>\n",
              "      <td>27.775</td>\n",
              "      <td>8899188</td>\n",
              "      <td>SBUX</td>\n",
              "      <td>27.915</td>\n",
              "      <td>-0.005015</td>\n",
              "    </tr>\n",
              "  </tbody>\n",
              "</table>\n",
              "</div>"
            ],
            "text/plain": [
              "         date    open    high     low  ...   volume  Name prevClose    Return\n",
              "0  2013-02-08  27.920  28.325  27.920  ...  7146296  SBUX       NaN       NaN\n",
              "1  2013-02-11  28.260  28.260  27.930  ...  5457354  SBUX    28.185 -0.004080\n",
              "2  2013-02-12  28.000  28.275  27.975  ...  8665592  SBUX    28.070  0.002138\n",
              "3  2013-02-13  28.230  28.230  27.750  ...  7022056  SBUX    28.130 -0.007643\n",
              "4  2013-02-14  27.765  27.905  27.675  ...  8899188  SBUX    27.915 -0.005015\n",
              "\n",
              "[5 rows x 9 columns]"
            ]
          },
          "metadata": {
            "tags": []
          },
          "execution_count": 75
        }
      ]
    },
    {
      "cell_type": "code",
      "metadata": {
        "id": "IxpqHigBLkVN",
        "colab_type": "code",
        "colab": {
          "base_uri": "https://localhost:8080/",
          "height": 282
        },
        "outputId": "b2810fec-3797-4040-85ec-2efa3630414d"
      },
      "source": [
        "df['Return'].hist()"
      ],
      "execution_count": 76,
      "outputs": [
        {
          "output_type": "execute_result",
          "data": {
            "text/plain": [
              "<matplotlib.axes._subplots.AxesSubplot at 0x7f8b7c1255f8>"
            ]
          },
          "metadata": {
            "tags": []
          },
          "execution_count": 76
        },
        {
          "output_type": "display_data",
          "data": {
            "image/png": "[encoded data removed]",
            "text/plain": [
              "<Figure size 432x288 with 1 Axes>"
            ]
          },
          "metadata": {
            "tags": [],
            "needs_background": "light"
          }
        }
      ]
    },
    {
      "cell_type": "code",
      "metadata": {
        "id": "C5xAj0hdL-Mm",
        "colab_type": "code",
        "colab": {
          "base_uri": "https://localhost:8080/",
          "height": 1000
        },
        "outputId": "56d59337-06bf-4d64-b04b-f225dc960561"
      },
      "source": [
        "# Following steps are same as in Method 1, in method 1 we predictied actual price\n",
        "# Here we will try to predict returns on the stock price. Hence only series is \n",
        "# changed, the model and other steps are same\n",
        "\n",
        "series = df['Return'].values[1:].reshape(-1, 1)\n",
        "\n",
        "# Normalizing data \n",
        "scaler = StandardScaler()\n",
        "scaler.fit(series[:len(series)//2]) #using half data for training, scaler is fit on half data only\n",
        "series = scaler.transform(series).flatten()\n",
        "\n",
        "\n",
        "# let's see if we can use T past values to predict the next value\n",
        "T = 10\n",
        "D = 1\n",
        "X = []\n",
        "Y = []\n",
        "for t in range(len(series) - T):\n",
        "  x = series[t:t+T]\n",
        "  X.append(x)\n",
        "  y = series[t+T]\n",
        "  Y.append(y)\n",
        "\n",
        "X = np.array(X).reshape(-1, T, 1) # Now the data should be N x T x D\n",
        "Y = np.array(Y)\n",
        "N = len(X)\n",
        "print(\"X.shape\", X.shape, \"Y.shape\", Y.shape)\n",
        "\n",
        "#building RNN model \n",
        "_input = Input(shape=(T, 1))\n",
        "x = LSTM(5)(_input)\n",
        "out = Dense(1)(x)\n",
        "model = Model(_input, out)\n",
        "model.compile(\n",
        "    loss = 'mse',\n",
        "    optimizer = Adam(lr=0.1)\n",
        ")\n",
        "\n",
        "r = model.fit(\n",
        "  X[:-N//2], Y[:-N//2],\n",
        "  epochs=80,\n",
        "  validation_data=(X[-N//2:], Y[-N//2:]),\n",
        ")"
      ],
      "execution_count": 77,
      "outputs": [
        {
          "output_type": "stream",
          "text": [
            "X.shape (1248, 10, 1) Y.shape (1248,)\n",
            "Epoch 1/80\n",
            "20/20 [==============================] - 1s 26ms/step - loss: 1.0238 - val_loss: 1.1548\n",
            "Epoch 2/80\n",
            "20/20 [==============================] - 0s 6ms/step - loss: 0.9929 - val_loss: 1.1463\n",
            "Epoch 3/80\n",
            "20/20 [==============================] - 0s 6ms/step - loss: 0.9951 - val_loss: 1.1444\n",
            "Epoch 4/80\n",
            "20/20 [==============================] - 0s 6ms/step - loss: 1.0021 - val_loss: 1.1863\n",
            "Epoch 5/80\n",
            "20/20 [==============================] - 0s 7ms/step - loss: 0.9907 - val_loss: 1.1577\n",
            "Epoch 6/80\n",
            "20/20 [==============================] - 0s 7ms/step - loss: 0.9902 - val_loss: 1.1635\n",
            "Epoch 7/80\n",
            "20/20 [==============================] - 0s 6ms/step - loss: 0.9964 - val_loss: 1.2132\n",
            "Epoch 8/80\n",
            "20/20 [==============================] - 0s 7ms/step - loss: 0.9809 - val_loss: 1.1659\n",
            "Epoch 9/80\n",
            "20/20 [==============================] - 0s 6ms/step - loss: 0.9803 - val_loss: 1.1973\n",
            "Epoch 10/80\n",
            "20/20 [==============================] - 0s 6ms/step - loss: 0.9726 - val_loss: 1.1435\n",
            "Epoch 11/80\n",
            "20/20 [==============================] - 0s 6ms/step - loss: 1.0037 - val_loss: 1.2362\n",
            "Epoch 12/80\n",
            "20/20 [==============================] - 0s 6ms/step - loss: 0.9723 - val_loss: 1.1823\n",
            "Epoch 13/80\n",
            "20/20 [==============================] - 0s 7ms/step - loss: 0.9911 - val_loss: 1.1738\n",
            "Epoch 14/80\n",
            "20/20 [==============================] - 0s 6ms/step - loss: 0.9818 - val_loss: 1.1556\n",
            "Epoch 15/80\n",
            "20/20 [==============================] - 0s 6ms/step - loss: 0.9802 - val_loss: 1.1956\n",
            "Epoch 16/80\n",
            "20/20 [==============================] - 0s 6ms/step - loss: 0.9958 - val_loss: 1.1993\n",
            "Epoch 17/80\n",
            "20/20 [==============================] - 0s 6ms/step - loss: 0.9920 - val_loss: 1.1592\n",
            "Epoch 18/80\n",
            "20/20 [==============================] - 0s 6ms/step - loss: 0.9779 - val_loss: 1.2194\n",
            "Epoch 19/80\n",
            "20/20 [==============================] - 0s 6ms/step - loss: 0.9839 - val_loss: 1.2621\n",
            "Epoch 20/80\n",
            "20/20 [==============================] - 0s 6ms/step - loss: 0.9811 - val_loss: 1.1507\n",
            "Epoch 21/80\n",
            "20/20 [==============================] - 0s 6ms/step - loss: 0.9612 - val_loss: 1.4176\n",
            "Epoch 22/80\n",
            "20/20 [==============================] - 0s 6ms/step - loss: 0.9872 - val_loss: 1.1876\n",
            "Epoch 23/80\n",
            "20/20 [==============================] - 0s 6ms/step - loss: 0.9781 - val_loss: 1.2167\n",
            "Epoch 24/80\n",
            "20/20 [==============================] - 0s 6ms/step - loss: 0.9672 - val_loss: 1.1970\n",
            "Epoch 25/80\n",
            "20/20 [==============================] - 0s 7ms/step - loss: 0.9709 - val_loss: 1.2065\n",
            "Epoch 26/80\n",
            "20/20 [==============================] - 0s 6ms/step - loss: 0.9552 - val_loss: 1.2262\n",
            "Epoch 27/80\n",
            "20/20 [==============================] - 0s 6ms/step - loss: 0.9585 - val_loss: 1.1849\n",
            "Epoch 28/80\n",
            "20/20 [==============================] - 0s 7ms/step - loss: 0.9462 - val_loss: 1.1991\n",
            "Epoch 29/80\n",
            "20/20 [==============================] - 0s 6ms/step - loss: 0.9612 - val_loss: 1.2634\n",
            "Epoch 30/80\n",
            "20/20 [==============================] - 0s 6ms/step - loss: 0.9589 - val_loss: 1.1574\n",
            "Epoch 31/80\n",
            "20/20 [==============================] - 0s 6ms/step - loss: 0.9534 - val_loss: 1.2030\n",
            "Epoch 32/80\n",
            "20/20 [==============================] - 0s 6ms/step - loss: 0.9557 - val_loss: 1.2405\n",
            "Epoch 33/80\n",
            "20/20 [==============================] - 0s 6ms/step - loss: 0.9763 - val_loss: 1.1553\n",
            "Epoch 34/80\n",
            "20/20 [==============================] - 0s 6ms/step - loss: 0.9864 - val_loss: 1.1693\n",
            "Epoch 35/80\n",
            "20/20 [==============================] - 0s 6ms/step - loss: 0.9999 - val_loss: 1.2485\n",
            "Epoch 36/80\n",
            "20/20 [==============================] - 0s 6ms/step - loss: 0.9701 - val_loss: 1.1536\n",
            "Epoch 37/80\n",
            "20/20 [==============================] - 0s 6ms/step - loss: 0.9505 - val_loss: 1.2481\n",
            "Epoch 38/80\n",
            "20/20 [==============================] - 0s 6ms/step - loss: 0.9499 - val_loss: 1.2160\n",
            "Epoch 39/80\n",
            "20/20 [==============================] - 0s 6ms/step - loss: 0.9560 - val_loss: 1.2896\n",
            "Epoch 40/80\n",
            "20/20 [==============================] - 0s 6ms/step - loss: 0.9571 - val_loss: 1.1868\n",
            "Epoch 41/80\n",
            "20/20 [==============================] - 0s 8ms/step - loss: 0.9333 - val_loss: 1.4403\n",
            "Epoch 42/80\n",
            "20/20 [==============================] - 0s 6ms/step - loss: 0.9344 - val_loss: 1.2390\n",
            "Epoch 43/80\n",
            "20/20 [==============================] - 0s 6ms/step - loss: 0.9438 - val_loss: 1.2756\n",
            "Epoch 44/80\n",
            "20/20 [==============================] - 0s 6ms/step - loss: 1.0185 - val_loss: 1.2142\n",
            "Epoch 45/80\n",
            "20/20 [==============================] - 0s 6ms/step - loss: 1.0179 - val_loss: 1.1694\n",
            "Epoch 46/80\n",
            "20/20 [==============================] - 0s 6ms/step - loss: 0.9861 - val_loss: 1.2064\n",
            "Epoch 47/80\n",
            "20/20 [==============================] - 0s 6ms/step - loss: 0.9770 - val_loss: 1.2529\n",
            "Epoch 48/80\n",
            "20/20 [==============================] - 0s 6ms/step - loss: 0.9533 - val_loss: 1.2266\n",
            "Epoch 49/80\n",
            "20/20 [==============================] - 0s 6ms/step - loss: 0.9735 - val_loss: 1.2090\n",
            "Epoch 50/80\n",
            "20/20 [==============================] - 0s 6ms/step - loss: 0.9597 - val_loss: 1.2074\n",
            "Epoch 51/80\n",
            "20/20 [==============================] - 0s 6ms/step - loss: 0.9330 - val_loss: 1.2490\n",
            "Epoch 52/80\n",
            "20/20 [==============================] - 0s 6ms/step - loss: 0.9629 - val_loss: 1.2326\n",
            "Epoch 53/80\n",
            "20/20 [==============================] - 0s 6ms/step - loss: 0.9300 - val_loss: 1.2266\n",
            "Epoch 54/80\n",
            "20/20 [==============================] - 0s 6ms/step - loss: 0.9307 - val_loss: 1.2734\n",
            "Epoch 55/80\n",
            "20/20 [==============================] - 0s 6ms/step - loss: 0.9104 - val_loss: 1.2098\n",
            "Epoch 56/80\n",
            "20/20 [==============================] - 0s 6ms/step - loss: 0.9233 - val_loss: 1.2991\n",
            "Epoch 57/80\n",
            "20/20 [==============================] - 0s 7ms/step - loss: 0.9385 - val_loss: 1.2103\n",
            "Epoch 58/80\n",
            "20/20 [==============================] - 0s 7ms/step - loss: 0.9266 - val_loss: 1.2864\n",
            "Epoch 59/80\n",
            "20/20 [==============================] - 0s 6ms/step - loss: 0.9272 - val_loss: 1.2099\n",
            "Epoch 60/80\n",
            "20/20 [==============================] - 0s 6ms/step - loss: 0.9772 - val_loss: 1.2264\n",
            "Epoch 61/80\n",
            "20/20 [==============================] - 0s 6ms/step - loss: 0.9398 - val_loss: 1.1590\n",
            "Epoch 62/80\n",
            "20/20 [==============================] - 0s 6ms/step - loss: 0.9600 - val_loss: 1.2789\n",
            "Epoch 63/80\n",
            "20/20 [==============================] - 0s 6ms/step - loss: 0.9513 - val_loss: 1.2013\n",
            "Epoch 64/80\n",
            "20/20 [==============================] - 0s 6ms/step - loss: 0.9366 - val_loss: 1.1876\n",
            "Epoch 65/80\n",
            "20/20 [==============================] - 0s 6ms/step - loss: 0.9359 - val_loss: 1.1935\n",
            "Epoch 66/80\n",
            "20/20 [==============================] - 0s 7ms/step - loss: 0.9448 - val_loss: 1.1764\n",
            "Epoch 67/80\n",
            "20/20 [==============================] - 0s 6ms/step - loss: 0.9538 - val_loss: 1.1755\n",
            "Epoch 68/80\n",
            "20/20 [==============================] - 0s 6ms/step - loss: 0.9424 - val_loss: 1.2077\n",
            "Epoch 69/80\n",
            "20/20 [==============================] - 0s 6ms/step - loss: 0.9226 - val_loss: 1.1691\n",
            "Epoch 70/80\n",
            "20/20 [==============================] - 0s 6ms/step - loss: 0.9530 - val_loss: 1.2126\n",
            "Epoch 71/80\n",
            "20/20 [==============================] - 0s 7ms/step - loss: 0.9352 - val_loss: 1.1639\n",
            "Epoch 72/80\n",
            "20/20 [==============================] - 0s 6ms/step - loss: 0.9332 - val_loss: 1.1930\n",
            "Epoch 73/80\n",
            "20/20 [==============================] - 0s 7ms/step - loss: 0.9183 - val_loss: 1.2225\n",
            "Epoch 74/80\n",
            "20/20 [==============================] - 0s 6ms/step - loss: 0.9030 - val_loss: 1.2536\n",
            "Epoch 75/80\n",
            "20/20 [==============================] - 0s 6ms/step - loss: 0.9298 - val_loss: 1.1993\n",
            "Epoch 76/80\n",
            "20/20 [==============================] - 0s 6ms/step - loss: 0.9953 - val_loss: 1.1309\n",
            "Epoch 77/80\n",
            "20/20 [==============================] - 0s 6ms/step - loss: 1.0043 - val_loss: 1.1341\n",
            "Epoch 78/80\n",
            "20/20 [==============================] - 0s 6ms/step - loss: 1.0050 - val_loss: 1.1709\n",
            "Epoch 79/80\n",
            "20/20 [==============================] - 0s 6ms/step - loss: 1.0135 - val_loss: 1.2051\n",
            "Epoch 80/80\n",
            "20/20 [==============================] - 0s 6ms/step - loss: 0.9772 - val_loss: 1.1488\n"
          ],
          "name": "stdout"
        }
      ]
    },
    {
      "cell_type": "code",
      "metadata": {
        "id": "dRoPZPFqNFVi",
        "colab_type": "code",
        "colab": {
          "base_uri": "https://localhost:8080/",
          "height": 282
        },
        "outputId": "eb0679f9-0439-4082-acb8-546410f5a447"
      },
      "source": [
        "plt.plot(r.history['loss'], label='loss')\n",
        "plt.plot(r.history['val_loss'], label='val_loss')\n",
        "plt.legend()"
      ],
      "execution_count": 78,
      "outputs": [
        {
          "output_type": "execute_result",
          "data": {
            "text/plain": [
              "<matplotlib.legend.Legend at 0x7f8b7fb44cf8>"
            ]
          },
          "metadata": {
            "tags": []
          },
          "execution_count": 78
        },
        {
          "output_type": "display_data",
          "data": {
            "image/png": "[encoded data removed]",
            "text/plain": [
              "<Figure size 432x288 with 1 Axes>"
            ]
          },
          "metadata": {
            "tags": [],
            "needs_background": "light"
          }
        }
      ]
    },
    {
      "cell_type": "code",
      "metadata": {
        "id": "vOKK2VG7NRoQ",
        "colab_type": "code",
        "colab": {
          "base_uri": "https://localhost:8080/",
          "height": 282
        },
        "outputId": "59e41749-ecfc-4cff-eda9-91e27dbf14ff"
      },
      "source": [
        "# One-step forecast using true targets\n",
        "outputs = model.predict(X)\n",
        "print(outputs.shape)\n",
        "predictions = outputs[:,0]\n",
        "\n",
        "plt.plot(Y, label='targets')\n",
        "plt.plot(predictions, label='predictions')\n",
        "plt.legend()\n",
        "plt.show()"
      ],
      "execution_count": 79,
      "outputs": [
        {
          "output_type": "stream",
          "text": [
            "(1248, 1)\n"
          ],
          "name": "stdout"
        },
        {
          "output_type": "display_data",
          "data": {
            "image/png": "[encoded data removed]",
            "text/plain": [
              "<Figure size 432x288 with 1 Axes>"
            ]
          },
          "metadata": {
            "tags": [],
            "needs_background": "light"
          }
        }
      ]
    },
    {
      "cell_type": "code",
      "metadata": {
        "id": "LtuPIYXtNT1M",
        "colab_type": "code",
        "colab": {
          "base_uri": "https://localhost:8080/",
          "height": 282
        },
        "outputId": "2160a146-17df-4d60-b782-7357442592f8"
      },
      "source": [
        "# Multi-step forecast\n",
        "validation_target = Y[-N//2:]\n",
        "validation_predictions = []\n",
        "\n",
        "# first validation input\n",
        "last_x = X[-N//2] # 1-D array of length T\n",
        "\n",
        "while len(validation_predictions) < len(validation_target):\n",
        "  p = model.predict(last_x.reshape(1, T, 1))[0,0] # 1x1 array -> scalar\n",
        "  \n",
        "  # update the predictions list\n",
        "  validation_predictions.append(p)\n",
        "  \n",
        "  # make the new input\n",
        "  last_x = np.roll(last_x, -1)\n",
        "  last_x[-1] = p\n",
        "\n",
        "plt.plot(validation_target, label='forecast target')\n",
        "plt.plot(validation_predictions, label='forecast prediction')\n",
        "plt.legend()"
      ],
      "execution_count": 80,
      "outputs": [
        {
          "output_type": "execute_result",
          "data": {
            "text/plain": [
              "<matplotlib.legend.Legend at 0x7f8b766a3b70>"
            ]
          },
          "metadata": {
            "tags": []
          },
          "execution_count": 80
        },
        {
          "output_type": "display_data",
          "data": {
            "image/png": "[encoded data removed]",
            "text/plain": [
              "<Figure size 432x288 with 1 Axes>"
            ]
          },
          "metadata": {
            "tags": [],
            "needs_background": "light"
          }
        }
      ]
    },
    {
      "cell_type": "code",
      "metadata": {
        "id": "wsfUBUDiNXg0",
        "colab_type": "code",
        "colab": {}
      },
      "source": [
        ""
      ],
      "execution_count": 80,
      "outputs": []
    },
    {
      "cell_type": "markdown",
      "metadata": {
        "id": "G1cTAJgdNgTi",
        "colab_type": "text"
      },
      "source": [
        "## Observations on method 2\n",
        "Model performed poorly as infered from the graphs \n",
        "\n",
        "\n",
        "\n",
        "```\n",
        "Reasons and conclusion is discussed in the end\n",
        "```\n",
        "\n"
      ]
    },
    {
      "cell_type": "code",
      "metadata": {
        "id": "_17anlNJN215",
        "colab_type": "code",
        "colab": {}
      },
      "source": [
        ""
      ],
      "execution_count": 80,
      "outputs": []
    },
    {
      "cell_type": "markdown",
      "metadata": {
        "id": "20CAVzDqOXoE",
        "colab_type": "text"
      },
      "source": [
        "# Method 3\n",
        "In the previous methods we tried to predict the price. In this method instead  of predicting price we will try to predict whether the price will go Up or down. This simplifies the problem to binary classification. We will also make use of all the features in this method"
      ]
    },
    {
      "cell_type": "code",
      "metadata": {
        "id": "vyF2jwUdO9iZ",
        "colab_type": "code",
        "colab": {}
      },
      "source": [
        "input_data = df[['open', 'high', 'low', 'close', 'volume']].values\n",
        "targets = df['Return'].values"
      ],
      "execution_count": 81,
      "outputs": []
    },
    {
      "cell_type": "code",
      "metadata": {
        "id": "mytWYvSlPMcB",
        "colab_type": "code",
        "colab": {}
      },
      "source": [
        "# building data that will go in neural network\n",
        "T = 10 # Using previous T observations to predict the next observation\n",
        "D = input_data.shape[1] # number of features in a single observation\n",
        "N = len(input_data) - T"
      ],
      "execution_count": 82,
      "outputs": []
    },
    {
      "cell_type": "code",
      "metadata": {
        "id": "bfVgkqcwP2Tf",
        "colab_type": "code",
        "colab": {}
      },
      "source": [
        "Ntrain = len(input_data) * 2 // 3\n",
        "scaler = StandardScaler()\n",
        "scaler.fit(input_data[:Ntrain + T - 1])\n",
        "input_data = scaler.transform(input_data)"
      ],
      "execution_count": 83,
      "outputs": []
    },
    {
      "cell_type": "code",
      "metadata": {
        "id": "MsMPgp1uQUYP",
        "colab_type": "code",
        "colab": {}
      },
      "source": [
        "# Setup X_train and Y_train\n",
        "X_train = np.zeros((Ntrain, T, D))\n",
        "Y_train = np.zeros(Ntrain)\n",
        "\n",
        "for t in range(Ntrain):\n",
        "  X_train[t, :, :] = input_data[t:t+T]\n",
        "  Y_train[t] = (targets[t+T] > 0)"
      ],
      "execution_count": 84,
      "outputs": []
    },
    {
      "cell_type": "code",
      "metadata": {
        "id": "LsEnmu7DQ6gm",
        "colab_type": "code",
        "colab": {}
      },
      "source": [
        "# Setup X_test and Y_test\n",
        "X_test = np.zeros((N - Ntrain, T, D))\n",
        "Y_test = np.zeros(N - Ntrain )\n",
        "\n",
        "for u in range(N - Ntrain):\n",
        "  # u counts from 0...(N - Ntrain)\n",
        "  # t counts from Ntrain...N\n",
        "  t = u + Ntrain\n",
        "  X_test[u, :, :] = input_data[t:t+T]\n",
        "  Y_test[u] = (targets[t+T] > 0)"
      ],
      "execution_count": 85,
      "outputs": []
    },
    {
      "cell_type": "code",
      "metadata": {
        "id": "7tBDk_1FRUFt",
        "colab_type": "code",
        "colab": {}
      },
      "source": [
        "# make the RNN\n",
        "i = Input(shape=(T, D))\n",
        "x = LSTM(50)(i)\n",
        "x = Dense(1, activation='sigmoid')(x) #beacause this case is similar to binary classification\n",
        "model = Model(i, x)\n",
        "model.compile(\n",
        "  loss='binary_crossentropy',\n",
        "  optimizer=Adam(lr=0.001),\n",
        "  metrics=['accuracy'],\n",
        ")"
      ],
      "execution_count": 86,
      "outputs": []
    },
    {
      "cell_type": "code",
      "metadata": {
        "id": "IloMC4p9T8Ta",
        "colab_type": "code",
        "colab": {
          "base_uri": "https://localhost:8080/",
          "height": 1000
        },
        "outputId": "e4e401f4-9f0a-40c8-bf03-ca3ea681a77a"
      },
      "source": [
        "r = model.fit(\n",
        "  X_train, Y_train,\n",
        "  batch_size=32,\n",
        "  epochs=300,\n",
        "  validation_data=(X_test, Y_test),\n",
        ")"
      ],
      "execution_count": 87,
      "outputs": [
        {
          "output_type": "stream",
          "text": [
            "Epoch 1/300\n",
            "27/27 [==============================] - 1s 23ms/step - loss: 0.6932 - accuracy: 0.5066 - val_loss: 0.6936 - val_accuracy: 0.4805\n",
            "Epoch 2/300\n",
            "27/27 [==============================] - 0s 7ms/step - loss: 0.6932 - accuracy: 0.5221 - val_loss: 0.6980 - val_accuracy: 0.4829\n",
            "Epoch 3/300\n",
            "27/27 [==============================] - 0s 6ms/step - loss: 0.6909 - accuracy: 0.5328 - val_loss: 0.6935 - val_accuracy: 0.4976\n",
            "Epoch 4/300\n",
            "27/27 [==============================] - 0s 6ms/step - loss: 0.6907 - accuracy: 0.5221 - val_loss: 0.6959 - val_accuracy: 0.4854\n",
            "Epoch 5/300\n",
            "27/27 [==============================] - 0s 7ms/step - loss: 0.6899 - accuracy: 0.5328 - val_loss: 0.6911 - val_accuracy: 0.5195\n",
            "Epoch 6/300\n",
            "27/27 [==============================] - 0s 6ms/step - loss: 0.6904 - accuracy: 0.5268 - val_loss: 0.6973 - val_accuracy: 0.4878\n",
            "Epoch 7/300\n",
            "27/27 [==============================] - 0s 6ms/step - loss: 0.6889 - accuracy: 0.5387 - val_loss: 0.6918 - val_accuracy: 0.5000\n",
            "Epoch 8/300\n",
            "27/27 [==============================] - 0s 6ms/step - loss: 0.6910 - accuracy: 0.5256 - val_loss: 0.7001 - val_accuracy: 0.4927\n",
            "Epoch 9/300\n",
            "27/27 [==============================] - 0s 6ms/step - loss: 0.6886 - accuracy: 0.5495 - val_loss: 0.6913 - val_accuracy: 0.5195\n",
            "Epoch 10/300\n",
            "27/27 [==============================] - 0s 6ms/step - loss: 0.6895 - accuracy: 0.5292 - val_loss: 0.6919 - val_accuracy: 0.5049\n",
            "Epoch 11/300\n",
            "27/27 [==============================] - 0s 7ms/step - loss: 0.6881 - accuracy: 0.5530 - val_loss: 0.6928 - val_accuracy: 0.4951\n",
            "Epoch 12/300\n",
            "27/27 [==============================] - 0s 7ms/step - loss: 0.6878 - accuracy: 0.5423 - val_loss: 0.7008 - val_accuracy: 0.5000\n",
            "Epoch 13/300\n",
            "27/27 [==============================] - 0s 7ms/step - loss: 0.6895 - accuracy: 0.5209 - val_loss: 0.6951 - val_accuracy: 0.4902\n",
            "Epoch 14/300\n",
            "27/27 [==============================] - 0s 7ms/step - loss: 0.6870 - accuracy: 0.5340 - val_loss: 0.6933 - val_accuracy: 0.4951\n",
            "Epoch 15/300\n",
            "27/27 [==============================] - 0s 6ms/step - loss: 0.6865 - accuracy: 0.5483 - val_loss: 0.6920 - val_accuracy: 0.5195\n",
            "Epoch 16/300\n",
            "27/27 [==============================] - 0s 7ms/step - loss: 0.6865 - accuracy: 0.5495 - val_loss: 0.6914 - val_accuracy: 0.5195\n",
            "Epoch 17/300\n",
            "27/27 [==============================] - 0s 7ms/step - loss: 0.6863 - accuracy: 0.5471 - val_loss: 0.6912 - val_accuracy: 0.5341\n",
            "Epoch 18/300\n",
            "27/27 [==============================] - 0s 7ms/step - loss: 0.6868 - accuracy: 0.5518 - val_loss: 0.6930 - val_accuracy: 0.5024\n",
            "Epoch 19/300\n",
            "27/27 [==============================] - 0s 7ms/step - loss: 0.6855 - accuracy: 0.5662 - val_loss: 0.6929 - val_accuracy: 0.5268\n",
            "Epoch 20/300\n",
            "27/27 [==============================] - 0s 7ms/step - loss: 0.6867 - accuracy: 0.5495 - val_loss: 0.6930 - val_accuracy: 0.5146\n",
            "Epoch 21/300\n",
            "27/27 [==============================] - 0s 8ms/step - loss: 0.6849 - accuracy: 0.5518 - val_loss: 0.6918 - val_accuracy: 0.5195\n",
            "Epoch 22/300\n",
            "27/27 [==============================] - 0s 7ms/step - loss: 0.6867 - accuracy: 0.5352 - val_loss: 0.6992 - val_accuracy: 0.4902\n",
            "Epoch 23/300\n",
            "27/27 [==============================] - 0s 7ms/step - loss: 0.6862 - accuracy: 0.5662 - val_loss: 0.6918 - val_accuracy: 0.5171\n",
            "Epoch 24/300\n",
            "27/27 [==============================] - 0s 7ms/step - loss: 0.6843 - accuracy: 0.5542 - val_loss: 0.6930 - val_accuracy: 0.5195\n",
            "Epoch 25/300\n",
            "27/27 [==============================] - 0s 7ms/step - loss: 0.6844 - accuracy: 0.5602 - val_loss: 0.6950 - val_accuracy: 0.4927\n",
            "Epoch 26/300\n",
            "27/27 [==============================] - 0s 7ms/step - loss: 0.6850 - accuracy: 0.5650 - val_loss: 0.6953 - val_accuracy: 0.4976\n",
            "Epoch 27/300\n",
            "27/27 [==============================] - 0s 7ms/step - loss: 0.6843 - accuracy: 0.5602 - val_loss: 0.6926 - val_accuracy: 0.5268\n",
            "Epoch 28/300\n",
            "27/27 [==============================] - 0s 7ms/step - loss: 0.6834 - accuracy: 0.5471 - val_loss: 0.6948 - val_accuracy: 0.5122\n",
            "Epoch 29/300\n",
            "27/27 [==============================] - 0s 7ms/step - loss: 0.6827 - accuracy: 0.5590 - val_loss: 0.6940 - val_accuracy: 0.5195\n",
            "Epoch 30/300\n",
            "27/27 [==============================] - 0s 7ms/step - loss: 0.6824 - accuracy: 0.5685 - val_loss: 0.6972 - val_accuracy: 0.4951\n",
            "Epoch 31/300\n",
            "27/27 [==============================] - 0s 7ms/step - loss: 0.6820 - accuracy: 0.5816 - val_loss: 0.6920 - val_accuracy: 0.5244\n",
            "Epoch 32/300\n",
            "27/27 [==============================] - 0s 7ms/step - loss: 0.6812 - accuracy: 0.5709 - val_loss: 0.6958 - val_accuracy: 0.5000\n",
            "Epoch 33/300\n",
            "27/27 [==============================] - 0s 7ms/step - loss: 0.6826 - accuracy: 0.5530 - val_loss: 0.6929 - val_accuracy: 0.5220\n",
            "Epoch 34/300\n",
            "27/27 [==============================] - 0s 7ms/step - loss: 0.6823 - accuracy: 0.5638 - val_loss: 0.6981 - val_accuracy: 0.5049\n",
            "Epoch 35/300\n",
            "27/27 [==============================] - 0s 7ms/step - loss: 0.6822 - accuracy: 0.5757 - val_loss: 0.6947 - val_accuracy: 0.5195\n",
            "Epoch 36/300\n",
            "27/27 [==============================] - 0s 7ms/step - loss: 0.6811 - accuracy: 0.5805 - val_loss: 0.6977 - val_accuracy: 0.4927\n",
            "Epoch 37/300\n",
            "27/27 [==============================] - 0s 7ms/step - loss: 0.6801 - accuracy: 0.5626 - val_loss: 0.6931 - val_accuracy: 0.5341\n",
            "Epoch 38/300\n",
            "27/27 [==============================] - 0s 6ms/step - loss: 0.6800 - accuracy: 0.5781 - val_loss: 0.6955 - val_accuracy: 0.5293\n",
            "Epoch 39/300\n",
            "27/27 [==============================] - 0s 7ms/step - loss: 0.6797 - accuracy: 0.5733 - val_loss: 0.6955 - val_accuracy: 0.5220\n",
            "Epoch 40/300\n",
            "27/27 [==============================] - 0s 7ms/step - loss: 0.6789 - accuracy: 0.5721 - val_loss: 0.7048 - val_accuracy: 0.4780\n",
            "Epoch 41/300\n",
            "27/27 [==============================] - 0s 7ms/step - loss: 0.6822 - accuracy: 0.5602 - val_loss: 0.6923 - val_accuracy: 0.5244\n",
            "Epoch 42/300\n",
            "27/27 [==============================] - 0s 7ms/step - loss: 0.6789 - accuracy: 0.5673 - val_loss: 0.6926 - val_accuracy: 0.5366\n",
            "Epoch 43/300\n",
            "27/27 [==============================] - 0s 6ms/step - loss: 0.6768 - accuracy: 0.5685 - val_loss: 0.6974 - val_accuracy: 0.5098\n",
            "Epoch 44/300\n",
            "27/27 [==============================] - 0s 7ms/step - loss: 0.6763 - accuracy: 0.5793 - val_loss: 0.6972 - val_accuracy: 0.5122\n",
            "Epoch 45/300\n",
            "27/27 [==============================] - 0s 6ms/step - loss: 0.6773 - accuracy: 0.5805 - val_loss: 0.7013 - val_accuracy: 0.4756\n",
            "Epoch 46/300\n",
            "27/27 [==============================] - 0s 6ms/step - loss: 0.6755 - accuracy: 0.5554 - val_loss: 0.6989 - val_accuracy: 0.5024\n",
            "Epoch 47/300\n",
            "27/27 [==============================] - 0s 8ms/step - loss: 0.6761 - accuracy: 0.5721 - val_loss: 0.6957 - val_accuracy: 0.5244\n",
            "Epoch 48/300\n",
            "27/27 [==============================] - 0s 7ms/step - loss: 0.6757 - accuracy: 0.5697 - val_loss: 0.7005 - val_accuracy: 0.4976\n",
            "Epoch 49/300\n",
            "27/27 [==============================] - 0s 7ms/step - loss: 0.6753 - accuracy: 0.5697 - val_loss: 0.6970 - val_accuracy: 0.4976\n",
            "Epoch 50/300\n",
            "27/27 [==============================] - 0s 6ms/step - loss: 0.6730 - accuracy: 0.5638 - val_loss: 0.7031 - val_accuracy: 0.4902\n",
            "Epoch 51/300\n",
            "27/27 [==============================] - 0s 7ms/step - loss: 0.6719 - accuracy: 0.5733 - val_loss: 0.6951 - val_accuracy: 0.5293\n",
            "Epoch 52/300\n",
            "27/27 [==============================] - 0s 7ms/step - loss: 0.6721 - accuracy: 0.5793 - val_loss: 0.7048 - val_accuracy: 0.4927\n",
            "Epoch 53/300\n",
            "27/27 [==============================] - 0s 7ms/step - loss: 0.6712 - accuracy: 0.5626 - val_loss: 0.6979 - val_accuracy: 0.5073\n",
            "Epoch 54/300\n",
            "27/27 [==============================] - 0s 7ms/step - loss: 0.6707 - accuracy: 0.5769 - val_loss: 0.7057 - val_accuracy: 0.4951\n",
            "Epoch 55/300\n",
            "27/27 [==============================] - 0s 7ms/step - loss: 0.6739 - accuracy: 0.5685 - val_loss: 0.6960 - val_accuracy: 0.5171\n",
            "Epoch 56/300\n",
            "27/27 [==============================] - 0s 7ms/step - loss: 0.6700 - accuracy: 0.5816 - val_loss: 0.7011 - val_accuracy: 0.4878\n",
            "Epoch 57/300\n",
            "27/27 [==============================] - 0s 7ms/step - loss: 0.6745 - accuracy: 0.5685 - val_loss: 0.6981 - val_accuracy: 0.4878\n",
            "Epoch 58/300\n",
            "27/27 [==============================] - 0s 7ms/step - loss: 0.6683 - accuracy: 0.5852 - val_loss: 0.7018 - val_accuracy: 0.4780\n",
            "Epoch 59/300\n",
            "27/27 [==============================] - 0s 7ms/step - loss: 0.6666 - accuracy: 0.5900 - val_loss: 0.7015 - val_accuracy: 0.4951\n",
            "Epoch 60/300\n",
            "27/27 [==============================] - 0s 7ms/step - loss: 0.6698 - accuracy: 0.5876 - val_loss: 0.6999 - val_accuracy: 0.5024\n",
            "Epoch 61/300\n",
            "27/27 [==============================] - 0s 7ms/step - loss: 0.6657 - accuracy: 0.5805 - val_loss: 0.7016 - val_accuracy: 0.4976\n",
            "Epoch 62/300\n",
            "27/27 [==============================] - 0s 6ms/step - loss: 0.6662 - accuracy: 0.5733 - val_loss: 0.7033 - val_accuracy: 0.4829\n",
            "Epoch 63/300\n",
            "27/27 [==============================] - 0s 7ms/step - loss: 0.6661 - accuracy: 0.5733 - val_loss: 0.7040 - val_accuracy: 0.5024\n",
            "Epoch 64/300\n",
            "27/27 [==============================] - 0s 7ms/step - loss: 0.6662 - accuracy: 0.5840 - val_loss: 0.7020 - val_accuracy: 0.5171\n",
            "Epoch 65/300\n",
            "27/27 [==============================] - 0s 6ms/step - loss: 0.6651 - accuracy: 0.5709 - val_loss: 0.7089 - val_accuracy: 0.4780\n",
            "Epoch 66/300\n",
            "27/27 [==============================] - 0s 6ms/step - loss: 0.6615 - accuracy: 0.5864 - val_loss: 0.7062 - val_accuracy: 0.4927\n",
            "Epoch 67/300\n",
            "27/27 [==============================] - 0s 6ms/step - loss: 0.6642 - accuracy: 0.5912 - val_loss: 0.7009 - val_accuracy: 0.4927\n",
            "Epoch 68/300\n",
            "27/27 [==============================] - 0s 7ms/step - loss: 0.6620 - accuracy: 0.5971 - val_loss: 0.7083 - val_accuracy: 0.4707\n",
            "Epoch 69/300\n",
            "27/27 [==============================] - 0s 6ms/step - loss: 0.6581 - accuracy: 0.5888 - val_loss: 0.7116 - val_accuracy: 0.4878\n",
            "Epoch 70/300\n",
            "27/27 [==============================] - 0s 6ms/step - loss: 0.6693 - accuracy: 0.5936 - val_loss: 0.6999 - val_accuracy: 0.4927\n",
            "Epoch 71/300\n",
            "27/27 [==============================] - 0s 6ms/step - loss: 0.6659 - accuracy: 0.5816 - val_loss: 0.6995 - val_accuracy: 0.4878\n",
            "Epoch 72/300\n",
            "27/27 [==============================] - 0s 6ms/step - loss: 0.6642 - accuracy: 0.5781 - val_loss: 0.6992 - val_accuracy: 0.5000\n",
            "Epoch 73/300\n",
            "27/27 [==============================] - 0s 6ms/step - loss: 0.6607 - accuracy: 0.5959 - val_loss: 0.7019 - val_accuracy: 0.4976\n",
            "Epoch 74/300\n",
            "27/27 [==============================] - 0s 7ms/step - loss: 0.6573 - accuracy: 0.6055 - val_loss: 0.7061 - val_accuracy: 0.4829\n",
            "Epoch 75/300\n",
            "27/27 [==============================] - 0s 6ms/step - loss: 0.6569 - accuracy: 0.5912 - val_loss: 0.7032 - val_accuracy: 0.5000\n",
            "Epoch 76/300\n",
            "27/27 [==============================] - 0s 6ms/step - loss: 0.6557 - accuracy: 0.5924 - val_loss: 0.7054 - val_accuracy: 0.4902\n",
            "Epoch 77/300\n",
            "27/27 [==============================] - 0s 6ms/step - loss: 0.6548 - accuracy: 0.6019 - val_loss: 0.7068 - val_accuracy: 0.4927\n",
            "Epoch 78/300\n",
            "27/27 [==============================] - 0s 7ms/step - loss: 0.6556 - accuracy: 0.6091 - val_loss: 0.7108 - val_accuracy: 0.4780\n",
            "Epoch 79/300\n",
            "27/27 [==============================] - 0s 7ms/step - loss: 0.6530 - accuracy: 0.6126 - val_loss: 0.7136 - val_accuracy: 0.4732\n",
            "Epoch 80/300\n",
            "27/27 [==============================] - 0s 6ms/step - loss: 0.6517 - accuracy: 0.6067 - val_loss: 0.7129 - val_accuracy: 0.4854\n",
            "Epoch 81/300\n",
            "27/27 [==============================] - 0s 7ms/step - loss: 0.6512 - accuracy: 0.5936 - val_loss: 0.7159 - val_accuracy: 0.4780\n",
            "Epoch 82/300\n",
            "27/27 [==============================] - 0s 6ms/step - loss: 0.6496 - accuracy: 0.6162 - val_loss: 0.7110 - val_accuracy: 0.4805\n",
            "Epoch 83/300\n",
            "27/27 [==============================] - 0s 7ms/step - loss: 0.6490 - accuracy: 0.6174 - val_loss: 0.7165 - val_accuracy: 0.4659\n",
            "Epoch 84/300\n",
            "27/27 [==============================] - 0s 6ms/step - loss: 0.6469 - accuracy: 0.6186 - val_loss: 0.7116 - val_accuracy: 0.4634\n",
            "Epoch 85/300\n",
            "27/27 [==============================] - 0s 7ms/step - loss: 0.6444 - accuracy: 0.6067 - val_loss: 0.7168 - val_accuracy: 0.4805\n",
            "Epoch 86/300\n",
            "27/27 [==============================] - 0s 6ms/step - loss: 0.6444 - accuracy: 0.6186 - val_loss: 0.7191 - val_accuracy: 0.4683\n",
            "Epoch 87/300\n",
            "27/27 [==============================] - 0s 6ms/step - loss: 0.6440 - accuracy: 0.6174 - val_loss: 0.7179 - val_accuracy: 0.4610\n",
            "Epoch 88/300\n",
            "27/27 [==============================] - 0s 7ms/step - loss: 0.6397 - accuracy: 0.6269 - val_loss: 0.7213 - val_accuracy: 0.4561\n",
            "Epoch 89/300\n",
            "27/27 [==============================] - 0s 6ms/step - loss: 0.6407 - accuracy: 0.6246 - val_loss: 0.7222 - val_accuracy: 0.4585\n",
            "Epoch 90/300\n",
            "27/27 [==============================] - 0s 7ms/step - loss: 0.6398 - accuracy: 0.6293 - val_loss: 0.7188 - val_accuracy: 0.4634\n",
            "Epoch 91/300\n",
            "27/27 [==============================] - 0s 6ms/step - loss: 0.6358 - accuracy: 0.6222 - val_loss: 0.7195 - val_accuracy: 0.4707\n",
            "Epoch 92/300\n",
            "27/27 [==============================] - 0s 6ms/step - loss: 0.6333 - accuracy: 0.6222 - val_loss: 0.7289 - val_accuracy: 0.4805\n",
            "Epoch 93/300\n",
            "27/27 [==============================] - 0s 6ms/step - loss: 0.6334 - accuracy: 0.6353 - val_loss: 0.7269 - val_accuracy: 0.4439\n",
            "Epoch 94/300\n",
            "27/27 [==============================] - 0s 6ms/step - loss: 0.6302 - accuracy: 0.6293 - val_loss: 0.7298 - val_accuracy: 0.4683\n",
            "Epoch 95/300\n",
            "27/27 [==============================] - 0s 6ms/step - loss: 0.6297 - accuracy: 0.6341 - val_loss: 0.7246 - val_accuracy: 0.4756\n",
            "Epoch 96/300\n",
            "27/27 [==============================] - 0s 6ms/step - loss: 0.6307 - accuracy: 0.6436 - val_loss: 0.7308 - val_accuracy: 0.4512\n",
            "Epoch 97/300\n",
            "27/27 [==============================] - 0s 7ms/step - loss: 0.6240 - accuracy: 0.6246 - val_loss: 0.7302 - val_accuracy: 0.4585\n",
            "Epoch 98/300\n",
            "27/27 [==============================] - 0s 6ms/step - loss: 0.6197 - accuracy: 0.6329 - val_loss: 0.7293 - val_accuracy: 0.4585\n",
            "Epoch 99/300\n",
            "27/27 [==============================] - 0s 6ms/step - loss: 0.6216 - accuracy: 0.6365 - val_loss: 0.7392 - val_accuracy: 0.4585\n",
            "Epoch 100/300\n",
            "27/27 [==============================] - 0s 6ms/step - loss: 0.6163 - accuracy: 0.6448 - val_loss: 0.7307 - val_accuracy: 0.4415\n",
            "Epoch 101/300\n",
            "27/27 [==============================] - 0s 7ms/step - loss: 0.6160 - accuracy: 0.6400 - val_loss: 0.7302 - val_accuracy: 0.4512\n",
            "Epoch 102/300\n",
            "27/27 [==============================] - 0s 7ms/step - loss: 0.6144 - accuracy: 0.6400 - val_loss: 0.7365 - val_accuracy: 0.4659\n",
            "Epoch 103/300\n",
            "27/27 [==============================] - 0s 6ms/step - loss: 0.6227 - accuracy: 0.6377 - val_loss: 0.7405 - val_accuracy: 0.4732\n",
            "Epoch 104/300\n",
            "27/27 [==============================] - 0s 7ms/step - loss: 0.6164 - accuracy: 0.6436 - val_loss: 0.7362 - val_accuracy: 0.4634\n",
            "Epoch 105/300\n",
            "27/27 [==============================] - 0s 6ms/step - loss: 0.6081 - accuracy: 0.6520 - val_loss: 0.7423 - val_accuracy: 0.4610\n",
            "Epoch 106/300\n",
            "27/27 [==============================] - 0s 7ms/step - loss: 0.6047 - accuracy: 0.6603 - val_loss: 0.7348 - val_accuracy: 0.4683\n",
            "Epoch 107/300\n",
            "27/27 [==============================] - 0s 6ms/step - loss: 0.6068 - accuracy: 0.6567 - val_loss: 0.7480 - val_accuracy: 0.4561\n",
            "Epoch 108/300\n",
            "27/27 [==============================] - 0s 6ms/step - loss: 0.6024 - accuracy: 0.6555 - val_loss: 0.7470 - val_accuracy: 0.4585\n",
            "Epoch 109/300\n",
            "27/27 [==============================] - 0s 6ms/step - loss: 0.5974 - accuracy: 0.6579 - val_loss: 0.7461 - val_accuracy: 0.4659\n",
            "Epoch 110/300\n",
            "27/27 [==============================] - 0s 7ms/step - loss: 0.5988 - accuracy: 0.6555 - val_loss: 0.7423 - val_accuracy: 0.4585\n",
            "Epoch 111/300\n",
            "27/27 [==============================] - 0s 6ms/step - loss: 0.5989 - accuracy: 0.6639 - val_loss: 0.7718 - val_accuracy: 0.4463\n",
            "Epoch 112/300\n",
            "27/27 [==============================] - 0s 7ms/step - loss: 0.6024 - accuracy: 0.6460 - val_loss: 0.7510 - val_accuracy: 0.4585\n",
            "Epoch 113/300\n",
            "27/27 [==============================] - 0s 7ms/step - loss: 0.5997 - accuracy: 0.6555 - val_loss: 0.7544 - val_accuracy: 0.4659\n",
            "Epoch 114/300\n",
            "27/27 [==============================] - 0s 7ms/step - loss: 0.6065 - accuracy: 0.6579 - val_loss: 0.7486 - val_accuracy: 0.4610\n",
            "Epoch 115/300\n",
            "27/27 [==============================] - 0s 7ms/step - loss: 0.5922 - accuracy: 0.6663 - val_loss: 0.7529 - val_accuracy: 0.4854\n",
            "Epoch 116/300\n",
            "27/27 [==============================] - 0s 7ms/step - loss: 0.5903 - accuracy: 0.6484 - val_loss: 0.7493 - val_accuracy: 0.4610\n",
            "Epoch 117/300\n",
            "27/27 [==============================] - 0s 7ms/step - loss: 0.5885 - accuracy: 0.6639 - val_loss: 0.7476 - val_accuracy: 0.4707\n",
            "Epoch 118/300\n",
            "27/27 [==============================] - 0s 7ms/step - loss: 0.5908 - accuracy: 0.6698 - val_loss: 0.7700 - val_accuracy: 0.4585\n",
            "Epoch 119/300\n",
            "27/27 [==============================] - 0s 7ms/step - loss: 0.5873 - accuracy: 0.6663 - val_loss: 0.7631 - val_accuracy: 0.4659\n",
            "Epoch 120/300\n",
            "27/27 [==============================] - 0s 6ms/step - loss: 0.5765 - accuracy: 0.6794 - val_loss: 0.7568 - val_accuracy: 0.4805\n",
            "Epoch 121/300\n",
            "27/27 [==============================] - 0s 6ms/step - loss: 0.5788 - accuracy: 0.6675 - val_loss: 0.7556 - val_accuracy: 0.4610\n",
            "Epoch 122/300\n",
            "27/27 [==============================] - 0s 6ms/step - loss: 0.5704 - accuracy: 0.6830 - val_loss: 0.7737 - val_accuracy: 0.4634\n",
            "Epoch 123/300\n",
            "27/27 [==============================] - 0s 6ms/step - loss: 0.5702 - accuracy: 0.6830 - val_loss: 0.7575 - val_accuracy: 0.4902\n",
            "Epoch 124/300\n",
            "27/27 [==============================] - 0s 6ms/step - loss: 0.5775 - accuracy: 0.6722 - val_loss: 0.7620 - val_accuracy: 0.4707\n",
            "Epoch 125/300\n",
            "27/27 [==============================] - 0s 6ms/step - loss: 0.5653 - accuracy: 0.6889 - val_loss: 0.7647 - val_accuracy: 0.4683\n",
            "Epoch 126/300\n",
            "27/27 [==============================] - 0s 6ms/step - loss: 0.5654 - accuracy: 0.6937 - val_loss: 0.7845 - val_accuracy: 0.4780\n",
            "Epoch 127/300\n",
            "27/27 [==============================] - 0s 7ms/step - loss: 0.5626 - accuracy: 0.6937 - val_loss: 0.7666 - val_accuracy: 0.4707\n",
            "Epoch 128/300\n",
            "27/27 [==============================] - 0s 7ms/step - loss: 0.5619 - accuracy: 0.6806 - val_loss: 0.7694 - val_accuracy: 0.4756\n",
            "Epoch 129/300\n",
            "27/27 [==============================] - 0s 6ms/step - loss: 0.5630 - accuracy: 0.6806 - val_loss: 0.7788 - val_accuracy: 0.4634\n",
            "Epoch 130/300\n",
            "27/27 [==============================] - 0s 6ms/step - loss: 0.5603 - accuracy: 0.6865 - val_loss: 0.7801 - val_accuracy: 0.4780\n",
            "Epoch 131/300\n",
            "27/27 [==============================] - 0s 6ms/step - loss: 0.5609 - accuracy: 0.6973 - val_loss: 0.7849 - val_accuracy: 0.4610\n",
            "Epoch 132/300\n",
            "27/27 [==============================] - 0s 6ms/step - loss: 0.5561 - accuracy: 0.6901 - val_loss: 0.7833 - val_accuracy: 0.4829\n",
            "Epoch 133/300\n",
            "27/27 [==============================] - 0s 7ms/step - loss: 0.5491 - accuracy: 0.7116 - val_loss: 0.7825 - val_accuracy: 0.4707\n",
            "Epoch 134/300\n",
            "27/27 [==============================] - 0s 7ms/step - loss: 0.5466 - accuracy: 0.6901 - val_loss: 0.7803 - val_accuracy: 0.4902\n",
            "Epoch 135/300\n",
            "27/27 [==============================] - 0s 6ms/step - loss: 0.5431 - accuracy: 0.7032 - val_loss: 0.7781 - val_accuracy: 0.4829\n",
            "Epoch 136/300\n",
            "27/27 [==============================] - 0s 6ms/step - loss: 0.5448 - accuracy: 0.7032 - val_loss: 0.7886 - val_accuracy: 0.4780\n",
            "Epoch 137/300\n",
            "27/27 [==============================] - 0s 6ms/step - loss: 0.5424 - accuracy: 0.7008 - val_loss: 0.7761 - val_accuracy: 0.4756\n",
            "Epoch 138/300\n",
            "27/27 [==============================] - 0s 6ms/step - loss: 0.5387 - accuracy: 0.6996 - val_loss: 0.7874 - val_accuracy: 0.4707\n",
            "Epoch 139/300\n",
            "27/27 [==============================] - 0s 7ms/step - loss: 0.5395 - accuracy: 0.6949 - val_loss: 0.7855 - val_accuracy: 0.4683\n",
            "Epoch 140/300\n",
            "27/27 [==============================] - 0s 7ms/step - loss: 0.5342 - accuracy: 0.7092 - val_loss: 0.7921 - val_accuracy: 0.4829\n",
            "Epoch 141/300\n",
            "27/27 [==============================] - 0s 7ms/step - loss: 0.5304 - accuracy: 0.7032 - val_loss: 0.8119 - val_accuracy: 0.4585\n",
            "Epoch 142/300\n",
            "27/27 [==============================] - 0s 6ms/step - loss: 0.5308 - accuracy: 0.7008 - val_loss: 0.7889 - val_accuracy: 0.4976\n",
            "Epoch 143/300\n",
            "27/27 [==============================] - 0s 6ms/step - loss: 0.5345 - accuracy: 0.7104 - val_loss: 0.7977 - val_accuracy: 0.4902\n",
            "Epoch 144/300\n",
            "27/27 [==============================] - 0s 6ms/step - loss: 0.5232 - accuracy: 0.7092 - val_loss: 0.7958 - val_accuracy: 0.4878\n",
            "Epoch 145/300\n",
            "27/27 [==============================] - 0s 6ms/step - loss: 0.5202 - accuracy: 0.7175 - val_loss: 0.7994 - val_accuracy: 0.4951\n",
            "Epoch 146/300\n",
            "27/27 [==============================] - 0s 6ms/step - loss: 0.5206 - accuracy: 0.7175 - val_loss: 0.8044 - val_accuracy: 0.4707\n",
            "Epoch 147/300\n",
            "27/27 [==============================] - 0s 6ms/step - loss: 0.5215 - accuracy: 0.7223 - val_loss: 0.8037 - val_accuracy: 0.4902\n",
            "Epoch 148/300\n",
            "27/27 [==============================] - 0s 6ms/step - loss: 0.5192 - accuracy: 0.7175 - val_loss: 0.7946 - val_accuracy: 0.4707\n",
            "Epoch 149/300\n",
            "27/27 [==============================] - 0s 7ms/step - loss: 0.5177 - accuracy: 0.7211 - val_loss: 0.8147 - val_accuracy: 0.5000\n",
            "Epoch 150/300\n",
            "27/27 [==============================] - 0s 7ms/step - loss: 0.5128 - accuracy: 0.7342 - val_loss: 0.8060 - val_accuracy: 0.4976\n",
            "Epoch 151/300\n",
            "27/27 [==============================] - 0s 6ms/step - loss: 0.5117 - accuracy: 0.7235 - val_loss: 0.8020 - val_accuracy: 0.4878\n",
            "Epoch 152/300\n",
            "27/27 [==============================] - 0s 7ms/step - loss: 0.5085 - accuracy: 0.7330 - val_loss: 0.7988 - val_accuracy: 0.5073\n",
            "Epoch 153/300\n",
            "27/27 [==============================] - 0s 6ms/step - loss: 0.5065 - accuracy: 0.7342 - val_loss: 0.7951 - val_accuracy: 0.4976\n",
            "Epoch 154/300\n",
            "27/27 [==============================] - 0s 6ms/step - loss: 0.5027 - accuracy: 0.7211 - val_loss: 0.8121 - val_accuracy: 0.4805\n",
            "Epoch 155/300\n",
            "27/27 [==============================] - 0s 7ms/step - loss: 0.5046 - accuracy: 0.7282 - val_loss: 0.7995 - val_accuracy: 0.4878\n",
            "Epoch 156/300\n",
            "27/27 [==============================] - 0s 6ms/step - loss: 0.5042 - accuracy: 0.7414 - val_loss: 0.7931 - val_accuracy: 0.4902\n",
            "Epoch 157/300\n",
            "27/27 [==============================] - 0s 6ms/step - loss: 0.4968 - accuracy: 0.7449 - val_loss: 0.8285 - val_accuracy: 0.4756\n",
            "Epoch 158/300\n",
            "27/27 [==============================] - 0s 7ms/step - loss: 0.4961 - accuracy: 0.7235 - val_loss: 0.7957 - val_accuracy: 0.4902\n",
            "Epoch 159/300\n",
            "27/27 [==============================] - 0s 7ms/step - loss: 0.4933 - accuracy: 0.7437 - val_loss: 0.8089 - val_accuracy: 0.4902\n",
            "Epoch 160/300\n",
            "27/27 [==============================] - 0s 7ms/step - loss: 0.4887 - accuracy: 0.7533 - val_loss: 0.8335 - val_accuracy: 0.4659\n",
            "Epoch 161/300\n",
            "27/27 [==============================] - 0s 6ms/step - loss: 0.4869 - accuracy: 0.7366 - val_loss: 0.8288 - val_accuracy: 0.4683\n",
            "Epoch 162/300\n",
            "27/27 [==============================] - 0s 6ms/step - loss: 0.4828 - accuracy: 0.7509 - val_loss: 0.8079 - val_accuracy: 0.4707\n",
            "Epoch 163/300\n",
            "27/27 [==============================] - 0s 6ms/step - loss: 0.4832 - accuracy: 0.7545 - val_loss: 0.8241 - val_accuracy: 0.5024\n",
            "Epoch 164/300\n",
            "27/27 [==============================] - 0s 6ms/step - loss: 0.4752 - accuracy: 0.7616 - val_loss: 0.8221 - val_accuracy: 0.4780\n",
            "Epoch 165/300\n",
            "27/27 [==============================] - 0s 7ms/step - loss: 0.4806 - accuracy: 0.7473 - val_loss: 0.8404 - val_accuracy: 0.4683\n",
            "Epoch 166/300\n",
            "27/27 [==============================] - 0s 7ms/step - loss: 0.4786 - accuracy: 0.7342 - val_loss: 0.8521 - val_accuracy: 0.4951\n",
            "Epoch 167/300\n",
            "27/27 [==============================] - 0s 7ms/step - loss: 0.4843 - accuracy: 0.7533 - val_loss: 0.8312 - val_accuracy: 0.4415\n",
            "Epoch 168/300\n",
            "27/27 [==============================] - 0s 6ms/step - loss: 0.4731 - accuracy: 0.7497 - val_loss: 0.8392 - val_accuracy: 0.4829\n",
            "Epoch 169/300\n",
            "27/27 [==============================] - 0s 6ms/step - loss: 0.4685 - accuracy: 0.7759 - val_loss: 0.8379 - val_accuracy: 0.4951\n",
            "Epoch 170/300\n",
            "27/27 [==============================] - 0s 6ms/step - loss: 0.4675 - accuracy: 0.7664 - val_loss: 0.8328 - val_accuracy: 0.4927\n",
            "Epoch 171/300\n",
            "27/27 [==============================] - 0s 7ms/step - loss: 0.4677 - accuracy: 0.7616 - val_loss: 0.8159 - val_accuracy: 0.4537\n",
            "Epoch 172/300\n",
            "27/27 [==============================] - 0s 7ms/step - loss: 0.4666 - accuracy: 0.7557 - val_loss: 0.8399 - val_accuracy: 0.4902\n",
            "Epoch 173/300\n",
            "27/27 [==============================] - 0s 7ms/step - loss: 0.4604 - accuracy: 0.7592 - val_loss: 0.8234 - val_accuracy: 0.4878\n",
            "Epoch 174/300\n",
            "27/27 [==============================] - 0s 6ms/step - loss: 0.4622 - accuracy: 0.7676 - val_loss: 0.8256 - val_accuracy: 0.5049\n",
            "Epoch 175/300\n",
            "27/27 [==============================] - 0s 6ms/step - loss: 0.4588 - accuracy: 0.7747 - val_loss: 0.8281 - val_accuracy: 0.5000\n",
            "Epoch 176/300\n",
            "27/27 [==============================] - 0s 6ms/step - loss: 0.4547 - accuracy: 0.7628 - val_loss: 0.8341 - val_accuracy: 0.4829\n",
            "Epoch 177/300\n",
            "27/27 [==============================] - 0s 7ms/step - loss: 0.4469 - accuracy: 0.7890 - val_loss: 0.8282 - val_accuracy: 0.4756\n",
            "Epoch 178/300\n",
            "27/27 [==============================] - 0s 7ms/step - loss: 0.4455 - accuracy: 0.7759 - val_loss: 0.8449 - val_accuracy: 0.4976\n",
            "Epoch 179/300\n",
            "27/27 [==============================] - 0s 6ms/step - loss: 0.4459 - accuracy: 0.7735 - val_loss: 0.8449 - val_accuracy: 0.4707\n",
            "Epoch 180/300\n",
            "27/27 [==============================] - 0s 6ms/step - loss: 0.4694 - accuracy: 0.7676 - val_loss: 0.8355 - val_accuracy: 0.5024\n",
            "Epoch 181/300\n",
            "27/27 [==============================] - 0s 6ms/step - loss: 0.4746 - accuracy: 0.7652 - val_loss: 0.8300 - val_accuracy: 0.4756\n",
            "Epoch 182/300\n",
            "27/27 [==============================] - 0s 8ms/step - loss: 0.4500 - accuracy: 0.7819 - val_loss: 0.8414 - val_accuracy: 0.5024\n",
            "Epoch 183/300\n",
            "27/27 [==============================] - 0s 6ms/step - loss: 0.4455 - accuracy: 0.7831 - val_loss: 0.8369 - val_accuracy: 0.4537\n",
            "Epoch 184/300\n",
            "27/27 [==============================] - 0s 6ms/step - loss: 0.4357 - accuracy: 0.7867 - val_loss: 0.8418 - val_accuracy: 0.4829\n",
            "Epoch 185/300\n",
            "27/27 [==============================] - 0s 6ms/step - loss: 0.4344 - accuracy: 0.7819 - val_loss: 0.8479 - val_accuracy: 0.5122\n",
            "Epoch 186/300\n",
            "27/27 [==============================] - 0s 6ms/step - loss: 0.4357 - accuracy: 0.7878 - val_loss: 0.8278 - val_accuracy: 0.4805\n",
            "Epoch 187/300\n",
            "27/27 [==============================] - 0s 6ms/step - loss: 0.4310 - accuracy: 0.7783 - val_loss: 0.8612 - val_accuracy: 0.4780\n",
            "Epoch 188/300\n",
            "27/27 [==============================] - 0s 7ms/step - loss: 0.4303 - accuracy: 0.7795 - val_loss: 0.8419 - val_accuracy: 0.5049\n",
            "Epoch 189/300\n",
            "27/27 [==============================] - 0s 6ms/step - loss: 0.4312 - accuracy: 0.7902 - val_loss: 0.8553 - val_accuracy: 0.4732\n",
            "Epoch 190/300\n",
            "27/27 [==============================] - 0s 7ms/step - loss: 0.4218 - accuracy: 0.7938 - val_loss: 0.8518 - val_accuracy: 0.5024\n",
            "Epoch 191/300\n",
            "27/27 [==============================] - 0s 6ms/step - loss: 0.4169 - accuracy: 0.8010 - val_loss: 0.8587 - val_accuracy: 0.4756\n",
            "Epoch 192/300\n",
            "27/27 [==============================] - 0s 7ms/step - loss: 0.4151 - accuracy: 0.8021 - val_loss: 0.8388 - val_accuracy: 0.4976\n",
            "Epoch 193/300\n",
            "27/27 [==============================] - 0s 7ms/step - loss: 0.4194 - accuracy: 0.7926 - val_loss: 0.8536 - val_accuracy: 0.5024\n",
            "Epoch 194/300\n",
            "27/27 [==============================] - 0s 6ms/step - loss: 0.4126 - accuracy: 0.8117 - val_loss: 0.8375 - val_accuracy: 0.5220\n",
            "Epoch 195/300\n",
            "27/27 [==============================] - 0s 6ms/step - loss: 0.4112 - accuracy: 0.7950 - val_loss: 0.8506 - val_accuracy: 0.4780\n",
            "Epoch 196/300\n",
            "27/27 [==============================] - 0s 7ms/step - loss: 0.4120 - accuracy: 0.7986 - val_loss: 0.8634 - val_accuracy: 0.5122\n",
            "Epoch 197/300\n",
            "27/27 [==============================] - 0s 6ms/step - loss: 0.4139 - accuracy: 0.7986 - val_loss: 0.8517 - val_accuracy: 0.5049\n",
            "Epoch 198/300\n",
            "27/27 [==============================] - 0s 7ms/step - loss: 0.4142 - accuracy: 0.8117 - val_loss: 0.8779 - val_accuracy: 0.5000\n",
            "Epoch 199/300\n",
            "27/27 [==============================] - 0s 7ms/step - loss: 0.4107 - accuracy: 0.7962 - val_loss: 0.8612 - val_accuracy: 0.4927\n",
            "Epoch 200/300\n",
            "27/27 [==============================] - 0s 6ms/step - loss: 0.4033 - accuracy: 0.8045 - val_loss: 0.8786 - val_accuracy: 0.5220\n",
            "Epoch 201/300\n",
            "27/27 [==============================] - 0s 6ms/step - loss: 0.4453 - accuracy: 0.7723 - val_loss: 0.8518 - val_accuracy: 0.4902\n",
            "Epoch 202/300\n",
            "27/27 [==============================] - 0s 6ms/step - loss: 0.4262 - accuracy: 0.7867 - val_loss: 0.8869 - val_accuracy: 0.4976\n",
            "Epoch 203/300\n",
            "27/27 [==============================] - 0s 6ms/step - loss: 0.4242 - accuracy: 0.7974 - val_loss: 0.8664 - val_accuracy: 0.4805\n",
            "Epoch 204/300\n",
            "27/27 [==============================] - 0s 7ms/step - loss: 0.4109 - accuracy: 0.8057 - val_loss: 0.8863 - val_accuracy: 0.4976\n",
            "Epoch 205/300\n",
            "27/27 [==============================] - 0s 7ms/step - loss: 0.4040 - accuracy: 0.8057 - val_loss: 0.8859 - val_accuracy: 0.5000\n",
            "Epoch 206/300\n",
            "27/27 [==============================] - 0s 6ms/step - loss: 0.3966 - accuracy: 0.8093 - val_loss: 0.8746 - val_accuracy: 0.4927\n",
            "Epoch 207/300\n",
            "27/27 [==============================] - 0s 7ms/step - loss: 0.3918 - accuracy: 0.8141 - val_loss: 0.8534 - val_accuracy: 0.4805\n",
            "Epoch 208/300\n",
            "27/27 [==============================] - 0s 6ms/step - loss: 0.3867 - accuracy: 0.8236 - val_loss: 0.8633 - val_accuracy: 0.4927\n",
            "Epoch 209/300\n",
            "27/27 [==============================] - 0s 7ms/step - loss: 0.3829 - accuracy: 0.8164 - val_loss: 0.8727 - val_accuracy: 0.4756\n",
            "Epoch 210/300\n",
            "27/27 [==============================] - 0s 6ms/step - loss: 0.3810 - accuracy: 0.8176 - val_loss: 0.8745 - val_accuracy: 0.4829\n",
            "Epoch 211/300\n",
            "27/27 [==============================] - 0s 6ms/step - loss: 0.3778 - accuracy: 0.8129 - val_loss: 0.8925 - val_accuracy: 0.4927\n",
            "Epoch 212/300\n",
            "27/27 [==============================] - 0s 7ms/step - loss: 0.3737 - accuracy: 0.8200 - val_loss: 0.8952 - val_accuracy: 0.5049\n",
            "Epoch 213/300\n",
            "27/27 [==============================] - 0s 7ms/step - loss: 0.3696 - accuracy: 0.8343 - val_loss: 0.8982 - val_accuracy: 0.4976\n",
            "Epoch 214/300\n",
            "27/27 [==============================] - 0s 7ms/step - loss: 0.3729 - accuracy: 0.8212 - val_loss: 0.9080 - val_accuracy: 0.5000\n",
            "Epoch 215/300\n",
            "27/27 [==============================] - 0s 7ms/step - loss: 0.3696 - accuracy: 0.8284 - val_loss: 0.8936 - val_accuracy: 0.5049\n",
            "Epoch 216/300\n",
            "27/27 [==============================] - 0s 6ms/step - loss: 0.3758 - accuracy: 0.8331 - val_loss: 0.9036 - val_accuracy: 0.4902\n",
            "Epoch 217/300\n",
            "27/27 [==============================] - 0s 6ms/step - loss: 0.3787 - accuracy: 0.8308 - val_loss: 0.9152 - val_accuracy: 0.4927\n",
            "Epoch 218/300\n",
            "27/27 [==============================] - 0s 6ms/step - loss: 0.3806 - accuracy: 0.8188 - val_loss: 0.8766 - val_accuracy: 0.5220\n",
            "Epoch 219/300\n",
            "27/27 [==============================] - 0s 7ms/step - loss: 0.3629 - accuracy: 0.8296 - val_loss: 0.9085 - val_accuracy: 0.4756\n",
            "Epoch 220/300\n",
            "27/27 [==============================] - 0s 7ms/step - loss: 0.3596 - accuracy: 0.8427 - val_loss: 0.9192 - val_accuracy: 0.5049\n",
            "Epoch 221/300\n",
            "27/27 [==============================] - 0s 6ms/step - loss: 0.3567 - accuracy: 0.8379 - val_loss: 0.9056 - val_accuracy: 0.5049\n",
            "Epoch 222/300\n",
            "27/27 [==============================] - 0s 6ms/step - loss: 0.3533 - accuracy: 0.8415 - val_loss: 0.9145 - val_accuracy: 0.4976\n",
            "Epoch 223/300\n",
            "27/27 [==============================] - 0s 6ms/step - loss: 0.3473 - accuracy: 0.8427 - val_loss: 0.9136 - val_accuracy: 0.4902\n",
            "Epoch 224/300\n",
            "27/27 [==============================] - 0s 6ms/step - loss: 0.3488 - accuracy: 0.8451 - val_loss: 0.9062 - val_accuracy: 0.5098\n",
            "Epoch 225/300\n",
            "27/27 [==============================] - 0s 7ms/step - loss: 0.3495 - accuracy: 0.8403 - val_loss: 0.9119 - val_accuracy: 0.5146\n",
            "Epoch 226/300\n",
            "27/27 [==============================] - 0s 7ms/step - loss: 0.3474 - accuracy: 0.8355 - val_loss: 0.9206 - val_accuracy: 0.4951\n",
            "Epoch 227/300\n",
            "27/27 [==============================] - 0s 6ms/step - loss: 0.3432 - accuracy: 0.8403 - val_loss: 0.9375 - val_accuracy: 0.5073\n",
            "Epoch 228/300\n",
            "27/27 [==============================] - 0s 7ms/step - loss: 0.3443 - accuracy: 0.8486 - val_loss: 0.9166 - val_accuracy: 0.5122\n",
            "Epoch 229/300\n",
            "27/27 [==============================] - 0s 7ms/step - loss: 0.3352 - accuracy: 0.8582 - val_loss: 0.8994 - val_accuracy: 0.5195\n",
            "Epoch 230/300\n",
            "27/27 [==============================] - 0s 7ms/step - loss: 0.3450 - accuracy: 0.8391 - val_loss: 0.8995 - val_accuracy: 0.5220\n",
            "Epoch 231/300\n",
            "27/27 [==============================] - 0s 7ms/step - loss: 0.3367 - accuracy: 0.8510 - val_loss: 0.9511 - val_accuracy: 0.5098\n",
            "Epoch 232/300\n",
            "27/27 [==============================] - 0s 7ms/step - loss: 0.3346 - accuracy: 0.8474 - val_loss: 0.9409 - val_accuracy: 0.5098\n",
            "Epoch 233/300\n",
            "27/27 [==============================] - 0s 6ms/step - loss: 0.3291 - accuracy: 0.8534 - val_loss: 0.9519 - val_accuracy: 0.5122\n",
            "Epoch 234/300\n",
            "27/27 [==============================] - 0s 6ms/step - loss: 0.3256 - accuracy: 0.8582 - val_loss: 0.9420 - val_accuracy: 0.5098\n",
            "Epoch 235/300\n",
            "27/27 [==============================] - 0s 7ms/step - loss: 0.3300 - accuracy: 0.8546 - val_loss: 0.9548 - val_accuracy: 0.5000\n",
            "Epoch 236/300\n",
            "27/27 [==============================] - 0s 7ms/step - loss: 0.3335 - accuracy: 0.8486 - val_loss: 0.9506 - val_accuracy: 0.5000\n",
            "Epoch 237/300\n",
            "27/27 [==============================] - 0s 7ms/step - loss: 0.3245 - accuracy: 0.8582 - val_loss: 0.9315 - val_accuracy: 0.5122\n",
            "Epoch 238/300\n",
            "27/27 [==============================] - 0s 6ms/step - loss: 0.3326 - accuracy: 0.8594 - val_loss: 0.9644 - val_accuracy: 0.4976\n",
            "Epoch 239/300\n",
            "27/27 [==============================] - 0s 7ms/step - loss: 0.3252 - accuracy: 0.8546 - val_loss: 0.9476 - val_accuracy: 0.4927\n",
            "Epoch 240/300\n",
            "27/27 [==============================] - 0s 6ms/step - loss: 0.3236 - accuracy: 0.8605 - val_loss: 0.9559 - val_accuracy: 0.4805\n",
            "Epoch 241/300\n",
            "27/27 [==============================] - 0s 6ms/step - loss: 0.3193 - accuracy: 0.8558 - val_loss: 0.9253 - val_accuracy: 0.5171\n",
            "Epoch 242/300\n",
            "27/27 [==============================] - 0s 7ms/step - loss: 0.3243 - accuracy: 0.8522 - val_loss: 0.9691 - val_accuracy: 0.5220\n",
            "Epoch 243/300\n",
            "27/27 [==============================] - 0s 6ms/step - loss: 0.3080 - accuracy: 0.8665 - val_loss: 0.9686 - val_accuracy: 0.5024\n",
            "Epoch 244/300\n",
            "27/27 [==============================] - 0s 7ms/step - loss: 0.3043 - accuracy: 0.8641 - val_loss: 0.9441 - val_accuracy: 0.5220\n",
            "Epoch 245/300\n",
            "27/27 [==============================] - 0s 7ms/step - loss: 0.3195 - accuracy: 0.8498 - val_loss: 0.9620 - val_accuracy: 0.4951\n",
            "Epoch 246/300\n",
            "27/27 [==============================] - 0s 7ms/step - loss: 0.3068 - accuracy: 0.8641 - val_loss: 0.9593 - val_accuracy: 0.5098\n",
            "Epoch 247/300\n",
            "27/27 [==============================] - 0s 7ms/step - loss: 0.3103 - accuracy: 0.8737 - val_loss: 0.9652 - val_accuracy: 0.4976\n",
            "Epoch 248/300\n",
            "27/27 [==============================] - 0s 6ms/step - loss: 0.2998 - accuracy: 0.8665 - val_loss: 0.9731 - val_accuracy: 0.5268\n",
            "Epoch 249/300\n",
            "27/27 [==============================] - 0s 7ms/step - loss: 0.2999 - accuracy: 0.8725 - val_loss: 0.9757 - val_accuracy: 0.5098\n",
            "Epoch 250/300\n",
            "27/27 [==============================] - 0s 7ms/step - loss: 0.2944 - accuracy: 0.8653 - val_loss: 0.9997 - val_accuracy: 0.5024\n",
            "Epoch 251/300\n",
            "27/27 [==============================] - 0s 6ms/step - loss: 0.2912 - accuracy: 0.8772 - val_loss: 0.9936 - val_accuracy: 0.5171\n",
            "Epoch 252/300\n",
            "27/27 [==============================] - 0s 7ms/step - loss: 0.2924 - accuracy: 0.8760 - val_loss: 0.9731 - val_accuracy: 0.5220\n",
            "Epoch 253/300\n",
            "27/27 [==============================] - 0s 7ms/step - loss: 0.2908 - accuracy: 0.8820 - val_loss: 0.9862 - val_accuracy: 0.5122\n",
            "Epoch 254/300\n",
            "27/27 [==============================] - 0s 7ms/step - loss: 0.2946 - accuracy: 0.8749 - val_loss: 1.0029 - val_accuracy: 0.5098\n",
            "Epoch 255/300\n",
            "27/27 [==============================] - 0s 6ms/step - loss: 0.2852 - accuracy: 0.8689 - val_loss: 1.0361 - val_accuracy: 0.4902\n",
            "Epoch 256/300\n",
            "27/27 [==============================] - 0s 6ms/step - loss: 0.2869 - accuracy: 0.8677 - val_loss: 0.9862 - val_accuracy: 0.5049\n",
            "Epoch 257/300\n",
            "27/27 [==============================] - 0s 7ms/step - loss: 0.2864 - accuracy: 0.8844 - val_loss: 1.0193 - val_accuracy: 0.5122\n",
            "Epoch 258/300\n",
            "27/27 [==============================] - 0s 7ms/step - loss: 0.2786 - accuracy: 0.8749 - val_loss: 0.9889 - val_accuracy: 0.5220\n",
            "Epoch 259/300\n",
            "27/27 [==============================] - 0s 7ms/step - loss: 0.2821 - accuracy: 0.8820 - val_loss: 1.0251 - val_accuracy: 0.4902\n",
            "Epoch 260/300\n",
            "27/27 [==============================] - 0s 7ms/step - loss: 0.2809 - accuracy: 0.8808 - val_loss: 0.9639 - val_accuracy: 0.5122\n",
            "Epoch 261/300\n",
            "27/27 [==============================] - 0s 7ms/step - loss: 0.2733 - accuracy: 0.8856 - val_loss: 1.0141 - val_accuracy: 0.5024\n",
            "Epoch 262/300\n",
            "27/27 [==============================] - 0s 7ms/step - loss: 0.2768 - accuracy: 0.8749 - val_loss: 1.0151 - val_accuracy: 0.4854\n",
            "Epoch 263/300\n",
            "27/27 [==============================] - 0s 7ms/step - loss: 0.2688 - accuracy: 0.8856 - val_loss: 0.9900 - val_accuracy: 0.5317\n",
            "Epoch 264/300\n",
            "27/27 [==============================] - 0s 6ms/step - loss: 0.2747 - accuracy: 0.8844 - val_loss: 1.0080 - val_accuracy: 0.5049\n",
            "Epoch 265/300\n",
            "27/27 [==============================] - 0s 7ms/step - loss: 0.2684 - accuracy: 0.8880 - val_loss: 1.0574 - val_accuracy: 0.4976\n",
            "Epoch 266/300\n",
            "27/27 [==============================] - 0s 6ms/step - loss: 0.2674 - accuracy: 0.8808 - val_loss: 1.0211 - val_accuracy: 0.5122\n",
            "Epoch 267/300\n",
            "27/27 [==============================] - 0s 7ms/step - loss: 0.2596 - accuracy: 0.8927 - val_loss: 1.0402 - val_accuracy: 0.5195\n",
            "Epoch 268/300\n",
            "27/27 [==============================] - 0s 7ms/step - loss: 0.2709 - accuracy: 0.8832 - val_loss: 1.0076 - val_accuracy: 0.5122\n",
            "Epoch 269/300\n",
            "27/27 [==============================] - 0s 6ms/step - loss: 0.2599 - accuracy: 0.9011 - val_loss: 1.0152 - val_accuracy: 0.5317\n",
            "Epoch 270/300\n",
            "27/27 [==============================] - 0s 7ms/step - loss: 0.2673 - accuracy: 0.8832 - val_loss: 1.0635 - val_accuracy: 0.5000\n",
            "Epoch 271/300\n",
            "27/27 [==============================] - 0s 6ms/step - loss: 0.2511 - accuracy: 0.8999 - val_loss: 0.9930 - val_accuracy: 0.4951\n",
            "Epoch 272/300\n",
            "27/27 [==============================] - 0s 7ms/step - loss: 0.2566 - accuracy: 0.8939 - val_loss: 1.0002 - val_accuracy: 0.5195\n",
            "Epoch 273/300\n",
            "27/27 [==============================] - 0s 7ms/step - loss: 0.2487 - accuracy: 0.9023 - val_loss: 1.0192 - val_accuracy: 0.5146\n",
            "Epoch 274/300\n",
            "27/27 [==============================] - 0s 7ms/step - loss: 0.2468 - accuracy: 0.9035 - val_loss: 1.0424 - val_accuracy: 0.5098\n",
            "Epoch 275/300\n",
            "27/27 [==============================] - 0s 7ms/step - loss: 0.2539 - accuracy: 0.9023 - val_loss: 1.0344 - val_accuracy: 0.4951\n",
            "Epoch 276/300\n",
            "27/27 [==============================] - 0s 7ms/step - loss: 0.2378 - accuracy: 0.9082 - val_loss: 1.0476 - val_accuracy: 0.5122\n",
            "Epoch 277/300\n",
            "27/27 [==============================] - 0s 7ms/step - loss: 0.2499 - accuracy: 0.8975 - val_loss: 1.0677 - val_accuracy: 0.5073\n",
            "Epoch 278/300\n",
            "27/27 [==============================] - 0s 7ms/step - loss: 0.2408 - accuracy: 0.9035 - val_loss: 1.0735 - val_accuracy: 0.5098\n",
            "Epoch 279/300\n",
            "27/27 [==============================] - 0s 7ms/step - loss: 0.2363 - accuracy: 0.9094 - val_loss: 1.0847 - val_accuracy: 0.5073\n",
            "Epoch 280/300\n",
            "27/27 [==============================] - 0s 7ms/step - loss: 0.2371 - accuracy: 0.9035 - val_loss: 1.0673 - val_accuracy: 0.5171\n",
            "Epoch 281/300\n",
            "27/27 [==============================] - 0s 6ms/step - loss: 0.2325 - accuracy: 0.9142 - val_loss: 1.0454 - val_accuracy: 0.5122\n",
            "Epoch 282/300\n",
            "27/27 [==============================] - 0s 7ms/step - loss: 0.2361 - accuracy: 0.9118 - val_loss: 1.0983 - val_accuracy: 0.4951\n",
            "Epoch 283/300\n",
            "27/27 [==============================] - 0s 7ms/step - loss: 0.2238 - accuracy: 0.9166 - val_loss: 1.0884 - val_accuracy: 0.4976\n",
            "Epoch 284/300\n",
            "27/27 [==============================] - 0s 7ms/step - loss: 0.2317 - accuracy: 0.9106 - val_loss: 1.0691 - val_accuracy: 0.5073\n",
            "Epoch 285/300\n",
            "27/27 [==============================] - 0s 7ms/step - loss: 0.2947 - accuracy: 0.8903 - val_loss: 1.0868 - val_accuracy: 0.5122\n",
            "Epoch 286/300\n",
            "27/27 [==============================] - 0s 6ms/step - loss: 0.3202 - accuracy: 0.8534 - val_loss: 1.1154 - val_accuracy: 0.4951\n",
            "Epoch 287/300\n",
            "27/27 [==============================] - 0s 6ms/step - loss: 0.3156 - accuracy: 0.8856 - val_loss: 1.0459 - val_accuracy: 0.5195\n",
            "Epoch 288/300\n",
            "27/27 [==============================] - 0s 6ms/step - loss: 0.2734 - accuracy: 0.9011 - val_loss: 1.0697 - val_accuracy: 0.5000\n",
            "Epoch 289/300\n",
            "27/27 [==============================] - 0s 7ms/step - loss: 0.2478 - accuracy: 0.9106 - val_loss: 1.0706 - val_accuracy: 0.5073\n",
            "Epoch 290/300\n",
            "27/27 [==============================] - 0s 7ms/step - loss: 0.2301 - accuracy: 0.9142 - val_loss: 1.0688 - val_accuracy: 0.5146\n",
            "Epoch 291/300\n",
            "27/27 [==============================] - 0s 7ms/step - loss: 0.2237 - accuracy: 0.9201 - val_loss: 1.1167 - val_accuracy: 0.4805\n",
            "Epoch 292/300\n",
            "27/27 [==============================] - 0s 7ms/step - loss: 0.2128 - accuracy: 0.9297 - val_loss: 1.0703 - val_accuracy: 0.5098\n",
            "Epoch 293/300\n",
            "27/27 [==============================] - 0s 7ms/step - loss: 0.2103 - accuracy: 0.9261 - val_loss: 1.1165 - val_accuracy: 0.4902\n",
            "Epoch 294/300\n",
            "27/27 [==============================] - 0s 7ms/step - loss: 0.2105 - accuracy: 0.9237 - val_loss: 1.1498 - val_accuracy: 0.4951\n",
            "Epoch 295/300\n",
            "27/27 [==============================] - 0s 7ms/step - loss: 0.2037 - accuracy: 0.9285 - val_loss: 1.0879 - val_accuracy: 0.5024\n",
            "Epoch 296/300\n",
            "27/27 [==============================] - 0s 6ms/step - loss: 0.2017 - accuracy: 0.9285 - val_loss: 1.1287 - val_accuracy: 0.5000\n",
            "Epoch 297/300\n",
            "27/27 [==============================] - 0s 7ms/step - loss: 0.2000 - accuracy: 0.9285 - val_loss: 1.1593 - val_accuracy: 0.5000\n",
            "Epoch 298/300\n",
            "27/27 [==============================] - 0s 6ms/step - loss: 0.2050 - accuracy: 0.9285 - val_loss: 1.1349 - val_accuracy: 0.5049\n",
            "Epoch 299/300\n",
            "27/27 [==============================] - 0s 7ms/step - loss: 0.2066 - accuracy: 0.9297 - val_loss: 1.1555 - val_accuracy: 0.5024\n",
            "Epoch 300/300\n",
            "27/27 [==============================] - 0s 7ms/step - loss: 0.2009 - accuracy: 0.9249 - val_loss: 1.1450 - val_accuracy: 0.5024\n"
          ],
          "name": "stdout"
        }
      ]
    },
    {
      "cell_type": "code",
      "metadata": {
        "id": "eCH9oUghUGfT",
        "colab_type": "code",
        "colab": {
          "base_uri": "https://localhost:8080/",
          "height": 268
        },
        "outputId": "e4ec4555-6423-4c67-b773-e1121a0e819a"
      },
      "source": [
        "# plot the loss\n",
        "plt.plot(r.history['loss'], label='loss')\n",
        "plt.plot(r.history['val_loss'], label='val_loss')\n",
        "plt.legend()\n",
        "plt.show()"
      ],
      "execution_count": 88,
      "outputs": [
        {
          "output_type": "display_data",
          "data": {
            "image/png": "[encoded data removed]",
            "text/plain": [
              "<Figure size 432x288 with 1 Axes>"
            ]
          },
          "metadata": {
            "tags": [],
            "needs_background": "light"
          }
        }
      ]
    },
    {
      "cell_type": "code",
      "metadata": {
        "id": "J2fRwk8tUesS",
        "colab_type": "code",
        "colab": {
          "base_uri": "https://localhost:8080/",
          "height": 265
        },
        "outputId": "f0bc98ed-3f04-460a-d8cd-5dbb380dc19f"
      },
      "source": [
        "# Plot accuracy per iteration\n",
        "plt.plot(r.history['accuracy'], label='accuracy')\n",
        "plt.plot(r.history['val_accuracy'], label='val_accuracy')\n",
        "plt.legend()\n",
        "plt.show()"
      ],
      "execution_count": 89,
      "outputs": [
        {
          "output_type": "display_data",
          "data": {
            "image/png": "[encoded data removed]",
            "text/plain": [
              "<Figure size 432x288 with 1 Axes>"
            ]
          },
          "metadata": {
            "tags": [],
            "needs_background": "light"
          }
        }
      ]
    },
    {
      "cell_type": "code",
      "metadata": {
        "id": "uPF7bGtacNKO",
        "colab_type": "code",
        "colab": {}
      },
      "source": [
        ""
      ],
      "execution_count": 89,
      "outputs": []
    },
    {
      "cell_type": "markdown",
      "metadata": {
        "id": "EcA4ReAwX_48",
        "colab_type": "text"
      },
      "source": [
        "## Observations on method 1\n",
        "This method seems to perform good at the first glance, val_loss was only 0.0194 on the last iterataion. In single step forcast it actually performed well. However when predicting multiple steps into the future the model performed very poorly. \n",
        "\n",
        "## Observations on method 2 \n",
        "In method 2 we tried to predict returns on the stock price, in real world scenario people often talk about gains on a stock instead of actual price. Even with this method the accuracy was poor.\n",
        "\n",
        "## Observations on method 3 \n",
        "In method 3 we reducted the problem to binary classification. This is much easier task than compared to predicting actual price. Using this method train accuracy was 93%, however the test accuracy was only 50% which is not better than random guessing.\n",
        "Method 3 was much easier task than that of method 1 and method 2. Since the model fails to perform well even on this taks, it would not have worked in predicting actual price even with hyperparameter tuning.\n",
        "\n",
        "## Fundamental flaw in the approach\n",
        "Predcting prices from previous prices may seem possible at first glance, however there is a fundamental flaw in this approach. This approach doesn't take into account real world events. \n",
        "\n",
        "Stock prices does not depent only on the previous prices. It can be on of the factors. \n",
        "Future is not completely deterministic from historical events. \n",
        "A more realistic scenario would be that the prices depend on the emotions of the investors, how media portrays the company etc. \n",
        "\n",
        "Our next target is to use these real world information about the company and economy to try to predict the prices\n"
      ]
    },
    {
      "cell_type": "code",
      "metadata": {
        "id": "6ILAqfU2cmWC",
        "colab_type": "code",
        "colab": {}
      },
      "source": [
        ""
      ],
      "execution_count": null,
      "outputs": []
    }
  ]
}